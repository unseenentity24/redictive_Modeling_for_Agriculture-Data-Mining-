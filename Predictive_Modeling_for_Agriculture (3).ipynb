{
  "nbformat": 4,
  "nbformat_minor": 0,
  "metadata": {
    "colab": {
      "provenance": []
    },
    "kernelspec": {
      "name": "python3",
      "display_name": "Python 3"
    },
    "language_info": {
      "name": "python"
    }
  },
  "cells": [
    {
      "cell_type": "code",
      "execution_count": 1,
      "metadata": {
        "id": "3wvjskkBMrmB"
      },
      "outputs": [],
      "source": [
        "import matplotlib.pyplot as plt\n",
        "import pandas as pd\n",
        "from sklearn.linear_model import LogisticRegression\n",
        "from sklearn.model_selection import train_test_split\n",
        "import seaborn as sns\n",
        "from sklearn.metrics import f1_score\n",
        "import warnings\n",
        "warnings.filterwarnings(\"ignore\")\n",
        "\n",
        "# Load the dataset\n",
        "crops = pd.read_csv(\"/content/soil_measures.csv\")"
      ]
    },
    {
      "cell_type": "code",
      "source": [
        "crops.head()"
      ],
      "metadata": {
        "colab": {
          "base_uri": "https://localhost:8080/",
          "height": 206
        },
        "id": "NGf8wyQIRvK7",
        "outputId": "b0540b6b-0341-45fd-d51d-7eb587509f69"
      },
      "execution_count": 2,
      "outputs": [
        {
          "output_type": "execute_result",
          "data": {
            "text/plain": [
              "    N   P   K        ph  crop\n",
              "0  90  42  43  6.502985  rice\n",
              "1  85  58  41  7.038096  rice\n",
              "2  60  55  44  7.840207  rice\n",
              "3  74  35  40  6.980401  rice\n",
              "4  78  42  42  7.628473  rice"
            ],
            "text/html": [
              "\n",
              "  <div id=\"df-3a0ef610-b1ca-4456-8b94-d0dd9f1547a7\" class=\"colab-df-container\">\n",
              "    <div>\n",
              "<style scoped>\n",
              "    .dataframe tbody tr th:only-of-type {\n",
              "        vertical-align: middle;\n",
              "    }\n",
              "\n",
              "    .dataframe tbody tr th {\n",
              "        vertical-align: top;\n",
              "    }\n",
              "\n",
              "    .dataframe thead th {\n",
              "        text-align: right;\n",
              "    }\n",
              "</style>\n",
              "<table border=\"1\" class=\"dataframe\">\n",
              "  <thead>\n",
              "    <tr style=\"text-align: right;\">\n",
              "      <th></th>\n",
              "      <th>N</th>\n",
              "      <th>P</th>\n",
              "      <th>K</th>\n",
              "      <th>ph</th>\n",
              "      <th>crop</th>\n",
              "    </tr>\n",
              "  </thead>\n",
              "  <tbody>\n",
              "    <tr>\n",
              "      <th>0</th>\n",
              "      <td>90</td>\n",
              "      <td>42</td>\n",
              "      <td>43</td>\n",
              "      <td>6.502985</td>\n",
              "      <td>rice</td>\n",
              "    </tr>\n",
              "    <tr>\n",
              "      <th>1</th>\n",
              "      <td>85</td>\n",
              "      <td>58</td>\n",
              "      <td>41</td>\n",
              "      <td>7.038096</td>\n",
              "      <td>rice</td>\n",
              "    </tr>\n",
              "    <tr>\n",
              "      <th>2</th>\n",
              "      <td>60</td>\n",
              "      <td>55</td>\n",
              "      <td>44</td>\n",
              "      <td>7.840207</td>\n",
              "      <td>rice</td>\n",
              "    </tr>\n",
              "    <tr>\n",
              "      <th>3</th>\n",
              "      <td>74</td>\n",
              "      <td>35</td>\n",
              "      <td>40</td>\n",
              "      <td>6.980401</td>\n",
              "      <td>rice</td>\n",
              "    </tr>\n",
              "    <tr>\n",
              "      <th>4</th>\n",
              "      <td>78</td>\n",
              "      <td>42</td>\n",
              "      <td>42</td>\n",
              "      <td>7.628473</td>\n",
              "      <td>rice</td>\n",
              "    </tr>\n",
              "  </tbody>\n",
              "</table>\n",
              "</div>\n",
              "    <div class=\"colab-df-buttons\">\n",
              "\n",
              "  <div class=\"colab-df-container\">\n",
              "    <button class=\"colab-df-convert\" onclick=\"convertToInteractive('df-3a0ef610-b1ca-4456-8b94-d0dd9f1547a7')\"\n",
              "            title=\"Convert this dataframe to an interactive table.\"\n",
              "            style=\"display:none;\">\n",
              "\n",
              "  <svg xmlns=\"http://www.w3.org/2000/svg\" height=\"24px\" viewBox=\"0 -960 960 960\">\n",
              "    <path d=\"M120-120v-720h720v720H120Zm60-500h600v-160H180v160Zm220 220h160v-160H400v160Zm0 220h160v-160H400v160ZM180-400h160v-160H180v160Zm440 0h160v-160H620v160ZM180-180h160v-160H180v160Zm440 0h160v-160H620v160Z\"/>\n",
              "  </svg>\n",
              "    </button>\n",
              "\n",
              "  <style>\n",
              "    .colab-df-container {\n",
              "      display:flex;\n",
              "      gap: 12px;\n",
              "    }\n",
              "\n",
              "    .colab-df-convert {\n",
              "      background-color: #E8F0FE;\n",
              "      border: none;\n",
              "      border-radius: 50%;\n",
              "      cursor: pointer;\n",
              "      display: none;\n",
              "      fill: #1967D2;\n",
              "      height: 32px;\n",
              "      padding: 0 0 0 0;\n",
              "      width: 32px;\n",
              "    }\n",
              "\n",
              "    .colab-df-convert:hover {\n",
              "      background-color: #E2EBFA;\n",
              "      box-shadow: 0px 1px 2px rgba(60, 64, 67, 0.3), 0px 1px 3px 1px rgba(60, 64, 67, 0.15);\n",
              "      fill: #174EA6;\n",
              "    }\n",
              "\n",
              "    .colab-df-buttons div {\n",
              "      margin-bottom: 4px;\n",
              "    }\n",
              "\n",
              "    [theme=dark] .colab-df-convert {\n",
              "      background-color: #3B4455;\n",
              "      fill: #D2E3FC;\n",
              "    }\n",
              "\n",
              "    [theme=dark] .colab-df-convert:hover {\n",
              "      background-color: #434B5C;\n",
              "      box-shadow: 0px 1px 3px 1px rgba(0, 0, 0, 0.15);\n",
              "      filter: drop-shadow(0px 1px 2px rgba(0, 0, 0, 0.3));\n",
              "      fill: #FFFFFF;\n",
              "    }\n",
              "  </style>\n",
              "\n",
              "    <script>\n",
              "      const buttonEl =\n",
              "        document.querySelector('#df-3a0ef610-b1ca-4456-8b94-d0dd9f1547a7 button.colab-df-convert');\n",
              "      buttonEl.style.display =\n",
              "        google.colab.kernel.accessAllowed ? 'block' : 'none';\n",
              "\n",
              "      async function convertToInteractive(key) {\n",
              "        const element = document.querySelector('#df-3a0ef610-b1ca-4456-8b94-d0dd9f1547a7');\n",
              "        const dataTable =\n",
              "          await google.colab.kernel.invokeFunction('convertToInteractive',\n",
              "                                                    [key], {});\n",
              "        if (!dataTable) return;\n",
              "\n",
              "        const docLinkHtml = 'Like what you see? Visit the ' +\n",
              "          '<a target=\"_blank\" href=https://colab.research.google.com/notebooks/data_table.ipynb>data table notebook</a>'\n",
              "          + ' to learn more about interactive tables.';\n",
              "        element.innerHTML = '';\n",
              "        dataTable['output_type'] = 'display_data';\n",
              "        await google.colab.output.renderOutput(dataTable, element);\n",
              "        const docLink = document.createElement('div');\n",
              "        docLink.innerHTML = docLinkHtml;\n",
              "        element.appendChild(docLink);\n",
              "      }\n",
              "    </script>\n",
              "  </div>\n",
              "\n",
              "\n",
              "    <div id=\"df-df812a69-fb68-45c1-bf91-0719ce0fe1a5\">\n",
              "      <button class=\"colab-df-quickchart\" onclick=\"quickchart('df-df812a69-fb68-45c1-bf91-0719ce0fe1a5')\"\n",
              "                title=\"Suggest charts\"\n",
              "                style=\"display:none;\">\n",
              "\n",
              "<svg xmlns=\"http://www.w3.org/2000/svg\" height=\"24px\"viewBox=\"0 0 24 24\"\n",
              "     width=\"24px\">\n",
              "    <g>\n",
              "        <path d=\"M19 3H5c-1.1 0-2 .9-2 2v14c0 1.1.9 2 2 2h14c1.1 0 2-.9 2-2V5c0-1.1-.9-2-2-2zM9 17H7v-7h2v7zm4 0h-2V7h2v10zm4 0h-2v-4h2v4z\"/>\n",
              "    </g>\n",
              "</svg>\n",
              "      </button>\n",
              "\n",
              "<style>\n",
              "  .colab-df-quickchart {\n",
              "      --bg-color: #E8F0FE;\n",
              "      --fill-color: #1967D2;\n",
              "      --hover-bg-color: #E2EBFA;\n",
              "      --hover-fill-color: #174EA6;\n",
              "      --disabled-fill-color: #AAA;\n",
              "      --disabled-bg-color: #DDD;\n",
              "  }\n",
              "\n",
              "  [theme=dark] .colab-df-quickchart {\n",
              "      --bg-color: #3B4455;\n",
              "      --fill-color: #D2E3FC;\n",
              "      --hover-bg-color: #434B5C;\n",
              "      --hover-fill-color: #FFFFFF;\n",
              "      --disabled-bg-color: #3B4455;\n",
              "      --disabled-fill-color: #666;\n",
              "  }\n",
              "\n",
              "  .colab-df-quickchart {\n",
              "    background-color: var(--bg-color);\n",
              "    border: none;\n",
              "    border-radius: 50%;\n",
              "    cursor: pointer;\n",
              "    display: none;\n",
              "    fill: var(--fill-color);\n",
              "    height: 32px;\n",
              "    padding: 0;\n",
              "    width: 32px;\n",
              "  }\n",
              "\n",
              "  .colab-df-quickchart:hover {\n",
              "    background-color: var(--hover-bg-color);\n",
              "    box-shadow: 0 1px 2px rgba(60, 64, 67, 0.3), 0 1px 3px 1px rgba(60, 64, 67, 0.15);\n",
              "    fill: var(--button-hover-fill-color);\n",
              "  }\n",
              "\n",
              "  .colab-df-quickchart-complete:disabled,\n",
              "  .colab-df-quickchart-complete:disabled:hover {\n",
              "    background-color: var(--disabled-bg-color);\n",
              "    fill: var(--disabled-fill-color);\n",
              "    box-shadow: none;\n",
              "  }\n",
              "\n",
              "  .colab-df-spinner {\n",
              "    border: 2px solid var(--fill-color);\n",
              "    border-color: transparent;\n",
              "    border-bottom-color: var(--fill-color);\n",
              "    animation:\n",
              "      spin 1s steps(1) infinite;\n",
              "  }\n",
              "\n",
              "  @keyframes spin {\n",
              "    0% {\n",
              "      border-color: transparent;\n",
              "      border-bottom-color: var(--fill-color);\n",
              "      border-left-color: var(--fill-color);\n",
              "    }\n",
              "    20% {\n",
              "      border-color: transparent;\n",
              "      border-left-color: var(--fill-color);\n",
              "      border-top-color: var(--fill-color);\n",
              "    }\n",
              "    30% {\n",
              "      border-color: transparent;\n",
              "      border-left-color: var(--fill-color);\n",
              "      border-top-color: var(--fill-color);\n",
              "      border-right-color: var(--fill-color);\n",
              "    }\n",
              "    40% {\n",
              "      border-color: transparent;\n",
              "      border-right-color: var(--fill-color);\n",
              "      border-top-color: var(--fill-color);\n",
              "    }\n",
              "    60% {\n",
              "      border-color: transparent;\n",
              "      border-right-color: var(--fill-color);\n",
              "    }\n",
              "    80% {\n",
              "      border-color: transparent;\n",
              "      border-right-color: var(--fill-color);\n",
              "      border-bottom-color: var(--fill-color);\n",
              "    }\n",
              "    90% {\n",
              "      border-color: transparent;\n",
              "      border-bottom-color: var(--fill-color);\n",
              "    }\n",
              "  }\n",
              "</style>\n",
              "\n",
              "      <script>\n",
              "        async function quickchart(key) {\n",
              "          const quickchartButtonEl =\n",
              "            document.querySelector('#' + key + ' button');\n",
              "          quickchartButtonEl.disabled = true;  // To prevent multiple clicks.\n",
              "          quickchartButtonEl.classList.add('colab-df-spinner');\n",
              "          try {\n",
              "            const charts = await google.colab.kernel.invokeFunction(\n",
              "                'suggestCharts', [key], {});\n",
              "          } catch (error) {\n",
              "            console.error('Error during call to suggestCharts:', error);\n",
              "          }\n",
              "          quickchartButtonEl.classList.remove('colab-df-spinner');\n",
              "          quickchartButtonEl.classList.add('colab-df-quickchart-complete');\n",
              "        }\n",
              "        (() => {\n",
              "          let quickchartButtonEl =\n",
              "            document.querySelector('#df-df812a69-fb68-45c1-bf91-0719ce0fe1a5 button');\n",
              "          quickchartButtonEl.style.display =\n",
              "            google.colab.kernel.accessAllowed ? 'block' : 'none';\n",
              "        })();\n",
              "      </script>\n",
              "    </div>\n",
              "\n",
              "    </div>\n",
              "  </div>\n"
            ],
            "application/vnd.google.colaboratory.intrinsic+json": {
              "type": "dataframe",
              "variable_name": "crops",
              "summary": "{\n  \"name\": \"crops\",\n  \"rows\": 2200,\n  \"fields\": [\n    {\n      \"column\": \"N\",\n      \"properties\": {\n        \"dtype\": \"number\",\n        \"std\": 36,\n        \"min\": 0,\n        \"max\": 140,\n        \"num_unique_values\": 137,\n        \"samples\": [\n          106,\n          101,\n          88\n        ],\n        \"semantic_type\": \"\",\n        \"description\": \"\"\n      }\n    },\n    {\n      \"column\": \"P\",\n      \"properties\": {\n        \"dtype\": \"number\",\n        \"std\": 32,\n        \"min\": 5,\n        \"max\": 145,\n        \"num_unique_values\": 117,\n        \"samples\": [\n          69,\n          37,\n          11\n        ],\n        \"semantic_type\": \"\",\n        \"description\": \"\"\n      }\n    },\n    {\n      \"column\": \"K\",\n      \"properties\": {\n        \"dtype\": \"number\",\n        \"std\": 50,\n        \"min\": 5,\n        \"max\": 205,\n        \"num_unique_values\": 73,\n        \"samples\": [\n          42,\n          12,\n          15\n        ],\n        \"semantic_type\": \"\",\n        \"description\": \"\"\n      }\n    },\n    {\n      \"column\": \"ph\",\n      \"properties\": {\n        \"dtype\": \"number\",\n        \"std\": 0.7739376880298721,\n        \"min\": 3.504752314,\n        \"max\": 9.93509073,\n        \"num_unique_values\": 2200,\n        \"samples\": [\n          6.185053234,\n          6.25933595,\n          6.941496806\n        ],\n        \"semantic_type\": \"\",\n        \"description\": \"\"\n      }\n    },\n    {\n      \"column\": \"crop\",\n      \"properties\": {\n        \"dtype\": \"category\",\n        \"num_unique_values\": 22,\n        \"samples\": [\n          \"rice\",\n          \"watermelon\",\n          \"lentil\"\n        ],\n        \"semantic_type\": \"\",\n        \"description\": \"\"\n      }\n    }\n  ]\n}"
            }
          },
          "metadata": {},
          "execution_count": 2
        }
      ]
    },
    {
      "cell_type": "code",
      "source": [
        "crops.shape"
      ],
      "metadata": {
        "colab": {
          "base_uri": "https://localhost:8080/"
        },
        "id": "4pDC6AY_waXu",
        "outputId": "dc5406d4-473f-41c7-a852-908c9c12d391"
      },
      "execution_count": 3,
      "outputs": [
        {
          "output_type": "execute_result",
          "data": {
            "text/plain": [
              "(2200, 5)"
            ]
          },
          "metadata": {},
          "execution_count": 3
        }
      ]
    },
    {
      "cell_type": "code",
      "source": [
        "crops.crop.value_counts()"
      ],
      "metadata": {
        "colab": {
          "base_uri": "https://localhost:8080/",
          "height": 805
        },
        "id": "YkwdmxKGwjcM",
        "outputId": "9044d5ac-f1ef-4a57-bea8-40374103ed2b"
      },
      "execution_count": 4,
      "outputs": [
        {
          "output_type": "execute_result",
          "data": {
            "text/plain": [
              "crop\n",
              "rice           100\n",
              "maize          100\n",
              "chickpea       100\n",
              "kidneybeans    100\n",
              "pigeonpeas     100\n",
              "mothbeans      100\n",
              "mungbean       100\n",
              "blackgram      100\n",
              "lentil         100\n",
              "pomegranate    100\n",
              "banana         100\n",
              "mango          100\n",
              "grapes         100\n",
              "watermelon     100\n",
              "muskmelon      100\n",
              "apple          100\n",
              "orange         100\n",
              "papaya         100\n",
              "coconut        100\n",
              "cotton         100\n",
              "jute           100\n",
              "coffee         100\n",
              "Name: count, dtype: int64"
            ],
            "text/html": [
              "<div>\n",
              "<style scoped>\n",
              "    .dataframe tbody tr th:only-of-type {\n",
              "        vertical-align: middle;\n",
              "    }\n",
              "\n",
              "    .dataframe tbody tr th {\n",
              "        vertical-align: top;\n",
              "    }\n",
              "\n",
              "    .dataframe thead th {\n",
              "        text-align: right;\n",
              "    }\n",
              "</style>\n",
              "<table border=\"1\" class=\"dataframe\">\n",
              "  <thead>\n",
              "    <tr style=\"text-align: right;\">\n",
              "      <th></th>\n",
              "      <th>count</th>\n",
              "    </tr>\n",
              "    <tr>\n",
              "      <th>crop</th>\n",
              "      <th></th>\n",
              "    </tr>\n",
              "  </thead>\n",
              "  <tbody>\n",
              "    <tr>\n",
              "      <th>rice</th>\n",
              "      <td>100</td>\n",
              "    </tr>\n",
              "    <tr>\n",
              "      <th>maize</th>\n",
              "      <td>100</td>\n",
              "    </tr>\n",
              "    <tr>\n",
              "      <th>chickpea</th>\n",
              "      <td>100</td>\n",
              "    </tr>\n",
              "    <tr>\n",
              "      <th>kidneybeans</th>\n",
              "      <td>100</td>\n",
              "    </tr>\n",
              "    <tr>\n",
              "      <th>pigeonpeas</th>\n",
              "      <td>100</td>\n",
              "    </tr>\n",
              "    <tr>\n",
              "      <th>mothbeans</th>\n",
              "      <td>100</td>\n",
              "    </tr>\n",
              "    <tr>\n",
              "      <th>mungbean</th>\n",
              "      <td>100</td>\n",
              "    </tr>\n",
              "    <tr>\n",
              "      <th>blackgram</th>\n",
              "      <td>100</td>\n",
              "    </tr>\n",
              "    <tr>\n",
              "      <th>lentil</th>\n",
              "      <td>100</td>\n",
              "    </tr>\n",
              "    <tr>\n",
              "      <th>pomegranate</th>\n",
              "      <td>100</td>\n",
              "    </tr>\n",
              "    <tr>\n",
              "      <th>banana</th>\n",
              "      <td>100</td>\n",
              "    </tr>\n",
              "    <tr>\n",
              "      <th>mango</th>\n",
              "      <td>100</td>\n",
              "    </tr>\n",
              "    <tr>\n",
              "      <th>grapes</th>\n",
              "      <td>100</td>\n",
              "    </tr>\n",
              "    <tr>\n",
              "      <th>watermelon</th>\n",
              "      <td>100</td>\n",
              "    </tr>\n",
              "    <tr>\n",
              "      <th>muskmelon</th>\n",
              "      <td>100</td>\n",
              "    </tr>\n",
              "    <tr>\n",
              "      <th>apple</th>\n",
              "      <td>100</td>\n",
              "    </tr>\n",
              "    <tr>\n",
              "      <th>orange</th>\n",
              "      <td>100</td>\n",
              "    </tr>\n",
              "    <tr>\n",
              "      <th>papaya</th>\n",
              "      <td>100</td>\n",
              "    </tr>\n",
              "    <tr>\n",
              "      <th>coconut</th>\n",
              "      <td>100</td>\n",
              "    </tr>\n",
              "    <tr>\n",
              "      <th>cotton</th>\n",
              "      <td>100</td>\n",
              "    </tr>\n",
              "    <tr>\n",
              "      <th>jute</th>\n",
              "      <td>100</td>\n",
              "    </tr>\n",
              "    <tr>\n",
              "      <th>coffee</th>\n",
              "      <td>100</td>\n",
              "    </tr>\n",
              "  </tbody>\n",
              "</table>\n",
              "</div><br><label><b>dtype:</b> int64</label>"
            ]
          },
          "metadata": {},
          "execution_count": 4
        }
      ]
    },
    {
      "cell_type": "code",
      "source": [
        "crops.info()"
      ],
      "metadata": {
        "colab": {
          "base_uri": "https://localhost:8080/"
        },
        "id": "hprAaT6twxet",
        "outputId": "dc74d1b6-b8be-4876-d455-8a898bc25106"
      },
      "execution_count": 5,
      "outputs": [
        {
          "output_type": "stream",
          "name": "stdout",
          "text": [
            "<class 'pandas.core.frame.DataFrame'>\n",
            "RangeIndex: 2200 entries, 0 to 2199\n",
            "Data columns (total 5 columns):\n",
            " #   Column  Non-Null Count  Dtype  \n",
            "---  ------  --------------  -----  \n",
            " 0   N       2200 non-null   int64  \n",
            " 1   P       2200 non-null   int64  \n",
            " 2   K       2200 non-null   int64  \n",
            " 3   ph      2200 non-null   float64\n",
            " 4   crop    2200 non-null   object \n",
            "dtypes: float64(1), int64(3), object(1)\n",
            "memory usage: 86.1+ KB\n"
          ]
        }
      ]
    },
    {
      "cell_type": "code",
      "source": [
        "crops.describe()"
      ],
      "metadata": {
        "colab": {
          "base_uri": "https://localhost:8080/",
          "height": 300
        },
        "id": "LbFr2bSjxqWP",
        "outputId": "5844aa27-e3ab-4ca8-8c29-d60568a3c052"
      },
      "execution_count": 6,
      "outputs": [
        {
          "output_type": "execute_result",
          "data": {
            "text/plain": [
              "                 N            P            K           ph\n",
              "count  2200.000000  2200.000000  2200.000000  2200.000000\n",
              "mean     50.551818    53.362727    48.149091     6.469480\n",
              "std      36.917334    32.985883    50.647931     0.773938\n",
              "min       0.000000     5.000000     5.000000     3.504752\n",
              "25%      21.000000    28.000000    20.000000     5.971693\n",
              "50%      37.000000    51.000000    32.000000     6.425045\n",
              "75%      84.250000    68.000000    49.000000     6.923643\n",
              "max     140.000000   145.000000   205.000000     9.935091"
            ],
            "text/html": [
              "\n",
              "  <div id=\"df-dfce9dec-3d94-467e-828f-619c6d470a96\" class=\"colab-df-container\">\n",
              "    <div>\n",
              "<style scoped>\n",
              "    .dataframe tbody tr th:only-of-type {\n",
              "        vertical-align: middle;\n",
              "    }\n",
              "\n",
              "    .dataframe tbody tr th {\n",
              "        vertical-align: top;\n",
              "    }\n",
              "\n",
              "    .dataframe thead th {\n",
              "        text-align: right;\n",
              "    }\n",
              "</style>\n",
              "<table border=\"1\" class=\"dataframe\">\n",
              "  <thead>\n",
              "    <tr style=\"text-align: right;\">\n",
              "      <th></th>\n",
              "      <th>N</th>\n",
              "      <th>P</th>\n",
              "      <th>K</th>\n",
              "      <th>ph</th>\n",
              "    </tr>\n",
              "  </thead>\n",
              "  <tbody>\n",
              "    <tr>\n",
              "      <th>count</th>\n",
              "      <td>2200.000000</td>\n",
              "      <td>2200.000000</td>\n",
              "      <td>2200.000000</td>\n",
              "      <td>2200.000000</td>\n",
              "    </tr>\n",
              "    <tr>\n",
              "      <th>mean</th>\n",
              "      <td>50.551818</td>\n",
              "      <td>53.362727</td>\n",
              "      <td>48.149091</td>\n",
              "      <td>6.469480</td>\n",
              "    </tr>\n",
              "    <tr>\n",
              "      <th>std</th>\n",
              "      <td>36.917334</td>\n",
              "      <td>32.985883</td>\n",
              "      <td>50.647931</td>\n",
              "      <td>0.773938</td>\n",
              "    </tr>\n",
              "    <tr>\n",
              "      <th>min</th>\n",
              "      <td>0.000000</td>\n",
              "      <td>5.000000</td>\n",
              "      <td>5.000000</td>\n",
              "      <td>3.504752</td>\n",
              "    </tr>\n",
              "    <tr>\n",
              "      <th>25%</th>\n",
              "      <td>21.000000</td>\n",
              "      <td>28.000000</td>\n",
              "      <td>20.000000</td>\n",
              "      <td>5.971693</td>\n",
              "    </tr>\n",
              "    <tr>\n",
              "      <th>50%</th>\n",
              "      <td>37.000000</td>\n",
              "      <td>51.000000</td>\n",
              "      <td>32.000000</td>\n",
              "      <td>6.425045</td>\n",
              "    </tr>\n",
              "    <tr>\n",
              "      <th>75%</th>\n",
              "      <td>84.250000</td>\n",
              "      <td>68.000000</td>\n",
              "      <td>49.000000</td>\n",
              "      <td>6.923643</td>\n",
              "    </tr>\n",
              "    <tr>\n",
              "      <th>max</th>\n",
              "      <td>140.000000</td>\n",
              "      <td>145.000000</td>\n",
              "      <td>205.000000</td>\n",
              "      <td>9.935091</td>\n",
              "    </tr>\n",
              "  </tbody>\n",
              "</table>\n",
              "</div>\n",
              "    <div class=\"colab-df-buttons\">\n",
              "\n",
              "  <div class=\"colab-df-container\">\n",
              "    <button class=\"colab-df-convert\" onclick=\"convertToInteractive('df-dfce9dec-3d94-467e-828f-619c6d470a96')\"\n",
              "            title=\"Convert this dataframe to an interactive table.\"\n",
              "            style=\"display:none;\">\n",
              "\n",
              "  <svg xmlns=\"http://www.w3.org/2000/svg\" height=\"24px\" viewBox=\"0 -960 960 960\">\n",
              "    <path d=\"M120-120v-720h720v720H120Zm60-500h600v-160H180v160Zm220 220h160v-160H400v160Zm0 220h160v-160H400v160ZM180-400h160v-160H180v160Zm440 0h160v-160H620v160ZM180-180h160v-160H180v160Zm440 0h160v-160H620v160Z\"/>\n",
              "  </svg>\n",
              "    </button>\n",
              "\n",
              "  <style>\n",
              "    .colab-df-container {\n",
              "      display:flex;\n",
              "      gap: 12px;\n",
              "    }\n",
              "\n",
              "    .colab-df-convert {\n",
              "      background-color: #E8F0FE;\n",
              "      border: none;\n",
              "      border-radius: 50%;\n",
              "      cursor: pointer;\n",
              "      display: none;\n",
              "      fill: #1967D2;\n",
              "      height: 32px;\n",
              "      padding: 0 0 0 0;\n",
              "      width: 32px;\n",
              "    }\n",
              "\n",
              "    .colab-df-convert:hover {\n",
              "      background-color: #E2EBFA;\n",
              "      box-shadow: 0px 1px 2px rgba(60, 64, 67, 0.3), 0px 1px 3px 1px rgba(60, 64, 67, 0.15);\n",
              "      fill: #174EA6;\n",
              "    }\n",
              "\n",
              "    .colab-df-buttons div {\n",
              "      margin-bottom: 4px;\n",
              "    }\n",
              "\n",
              "    [theme=dark] .colab-df-convert {\n",
              "      background-color: #3B4455;\n",
              "      fill: #D2E3FC;\n",
              "    }\n",
              "\n",
              "    [theme=dark] .colab-df-convert:hover {\n",
              "      background-color: #434B5C;\n",
              "      box-shadow: 0px 1px 3px 1px rgba(0, 0, 0, 0.15);\n",
              "      filter: drop-shadow(0px 1px 2px rgba(0, 0, 0, 0.3));\n",
              "      fill: #FFFFFF;\n",
              "    }\n",
              "  </style>\n",
              "\n",
              "    <script>\n",
              "      const buttonEl =\n",
              "        document.querySelector('#df-dfce9dec-3d94-467e-828f-619c6d470a96 button.colab-df-convert');\n",
              "      buttonEl.style.display =\n",
              "        google.colab.kernel.accessAllowed ? 'block' : 'none';\n",
              "\n",
              "      async function convertToInteractive(key) {\n",
              "        const element = document.querySelector('#df-dfce9dec-3d94-467e-828f-619c6d470a96');\n",
              "        const dataTable =\n",
              "          await google.colab.kernel.invokeFunction('convertToInteractive',\n",
              "                                                    [key], {});\n",
              "        if (!dataTable) return;\n",
              "\n",
              "        const docLinkHtml = 'Like what you see? Visit the ' +\n",
              "          '<a target=\"_blank\" href=https://colab.research.google.com/notebooks/data_table.ipynb>data table notebook</a>'\n",
              "          + ' to learn more about interactive tables.';\n",
              "        element.innerHTML = '';\n",
              "        dataTable['output_type'] = 'display_data';\n",
              "        await google.colab.output.renderOutput(dataTable, element);\n",
              "        const docLink = document.createElement('div');\n",
              "        docLink.innerHTML = docLinkHtml;\n",
              "        element.appendChild(docLink);\n",
              "      }\n",
              "    </script>\n",
              "  </div>\n",
              "\n",
              "\n",
              "    <div id=\"df-cf37479b-f912-4f98-bfb5-dc49572b5603\">\n",
              "      <button class=\"colab-df-quickchart\" onclick=\"quickchart('df-cf37479b-f912-4f98-bfb5-dc49572b5603')\"\n",
              "                title=\"Suggest charts\"\n",
              "                style=\"display:none;\">\n",
              "\n",
              "<svg xmlns=\"http://www.w3.org/2000/svg\" height=\"24px\"viewBox=\"0 0 24 24\"\n",
              "     width=\"24px\">\n",
              "    <g>\n",
              "        <path d=\"M19 3H5c-1.1 0-2 .9-2 2v14c0 1.1.9 2 2 2h14c1.1 0 2-.9 2-2V5c0-1.1-.9-2-2-2zM9 17H7v-7h2v7zm4 0h-2V7h2v10zm4 0h-2v-4h2v4z\"/>\n",
              "    </g>\n",
              "</svg>\n",
              "      </button>\n",
              "\n",
              "<style>\n",
              "  .colab-df-quickchart {\n",
              "      --bg-color: #E8F0FE;\n",
              "      --fill-color: #1967D2;\n",
              "      --hover-bg-color: #E2EBFA;\n",
              "      --hover-fill-color: #174EA6;\n",
              "      --disabled-fill-color: #AAA;\n",
              "      --disabled-bg-color: #DDD;\n",
              "  }\n",
              "\n",
              "  [theme=dark] .colab-df-quickchart {\n",
              "      --bg-color: #3B4455;\n",
              "      --fill-color: #D2E3FC;\n",
              "      --hover-bg-color: #434B5C;\n",
              "      --hover-fill-color: #FFFFFF;\n",
              "      --disabled-bg-color: #3B4455;\n",
              "      --disabled-fill-color: #666;\n",
              "  }\n",
              "\n",
              "  .colab-df-quickchart {\n",
              "    background-color: var(--bg-color);\n",
              "    border: none;\n",
              "    border-radius: 50%;\n",
              "    cursor: pointer;\n",
              "    display: none;\n",
              "    fill: var(--fill-color);\n",
              "    height: 32px;\n",
              "    padding: 0;\n",
              "    width: 32px;\n",
              "  }\n",
              "\n",
              "  .colab-df-quickchart:hover {\n",
              "    background-color: var(--hover-bg-color);\n",
              "    box-shadow: 0 1px 2px rgba(60, 64, 67, 0.3), 0 1px 3px 1px rgba(60, 64, 67, 0.15);\n",
              "    fill: var(--button-hover-fill-color);\n",
              "  }\n",
              "\n",
              "  .colab-df-quickchart-complete:disabled,\n",
              "  .colab-df-quickchart-complete:disabled:hover {\n",
              "    background-color: var(--disabled-bg-color);\n",
              "    fill: var(--disabled-fill-color);\n",
              "    box-shadow: none;\n",
              "  }\n",
              "\n",
              "  .colab-df-spinner {\n",
              "    border: 2px solid var(--fill-color);\n",
              "    border-color: transparent;\n",
              "    border-bottom-color: var(--fill-color);\n",
              "    animation:\n",
              "      spin 1s steps(1) infinite;\n",
              "  }\n",
              "\n",
              "  @keyframes spin {\n",
              "    0% {\n",
              "      border-color: transparent;\n",
              "      border-bottom-color: var(--fill-color);\n",
              "      border-left-color: var(--fill-color);\n",
              "    }\n",
              "    20% {\n",
              "      border-color: transparent;\n",
              "      border-left-color: var(--fill-color);\n",
              "      border-top-color: var(--fill-color);\n",
              "    }\n",
              "    30% {\n",
              "      border-color: transparent;\n",
              "      border-left-color: var(--fill-color);\n",
              "      border-top-color: var(--fill-color);\n",
              "      border-right-color: var(--fill-color);\n",
              "    }\n",
              "    40% {\n",
              "      border-color: transparent;\n",
              "      border-right-color: var(--fill-color);\n",
              "      border-top-color: var(--fill-color);\n",
              "    }\n",
              "    60% {\n",
              "      border-color: transparent;\n",
              "      border-right-color: var(--fill-color);\n",
              "    }\n",
              "    80% {\n",
              "      border-color: transparent;\n",
              "      border-right-color: var(--fill-color);\n",
              "      border-bottom-color: var(--fill-color);\n",
              "    }\n",
              "    90% {\n",
              "      border-color: transparent;\n",
              "      border-bottom-color: var(--fill-color);\n",
              "    }\n",
              "  }\n",
              "</style>\n",
              "\n",
              "      <script>\n",
              "        async function quickchart(key) {\n",
              "          const quickchartButtonEl =\n",
              "            document.querySelector('#' + key + ' button');\n",
              "          quickchartButtonEl.disabled = true;  // To prevent multiple clicks.\n",
              "          quickchartButtonEl.classList.add('colab-df-spinner');\n",
              "          try {\n",
              "            const charts = await google.colab.kernel.invokeFunction(\n",
              "                'suggestCharts', [key], {});\n",
              "          } catch (error) {\n",
              "            console.error('Error during call to suggestCharts:', error);\n",
              "          }\n",
              "          quickchartButtonEl.classList.remove('colab-df-spinner');\n",
              "          quickchartButtonEl.classList.add('colab-df-quickchart-complete');\n",
              "        }\n",
              "        (() => {\n",
              "          let quickchartButtonEl =\n",
              "            document.querySelector('#df-cf37479b-f912-4f98-bfb5-dc49572b5603 button');\n",
              "          quickchartButtonEl.style.display =\n",
              "            google.colab.kernel.accessAllowed ? 'block' : 'none';\n",
              "        })();\n",
              "      </script>\n",
              "    </div>\n",
              "\n",
              "    </div>\n",
              "  </div>\n"
            ],
            "application/vnd.google.colaboratory.intrinsic+json": {
              "type": "dataframe",
              "summary": "{\n  \"name\": \"crops\",\n  \"rows\": 8,\n  \"fields\": [\n    {\n      \"column\": \"N\",\n      \"properties\": {\n        \"dtype\": \"number\",\n        \"std\": 760.3565304071341,\n        \"min\": 0.0,\n        \"max\": 2200.0,\n        \"num_unique_values\": 8,\n        \"samples\": [\n          50.551818181818184,\n          37.0,\n          2200.0\n        ],\n        \"semantic_type\": \"\",\n        \"description\": \"\"\n      }\n    },\n    {\n      \"column\": \"P\",\n      \"properties\": {\n        \"dtype\": \"number\",\n        \"std\": 759.584792033131,\n        \"min\": 5.0,\n        \"max\": 2200.0,\n        \"num_unique_values\": 8,\n        \"samples\": [\n          53.36272727272727,\n          51.0,\n          2200.0\n        ],\n        \"semantic_type\": \"\",\n        \"description\": \"\"\n      }\n    },\n    {\n      \"column\": \"K\",\n      \"properties\": {\n        \"dtype\": \"number\",\n        \"std\": 759.6407502585978,\n        \"min\": 5.0,\n        \"max\": 2200.0,\n        \"num_unique_values\": 8,\n        \"samples\": [\n          48.14909090909091,\n          32.0,\n          2200.0\n        ],\n        \"semantic_type\": \"\",\n        \"description\": \"\"\n      }\n    },\n    {\n      \"column\": \"ph\",\n      \"properties\": {\n        \"dtype\": \"number\",\n        \"std\": 775.8015470082165,\n        \"min\": 0.7739376880298721,\n        \"max\": 2200.0,\n        \"num_unique_values\": 8,\n        \"samples\": [\n          6.469480065256364,\n          6.42504527,\n          2200.0\n        ],\n        \"semantic_type\": \"\",\n        \"description\": \"\"\n      }\n    }\n  ]\n}"
            }
          },
          "metadata": {},
          "execution_count": 6
        }
      ]
    },
    {
      "cell_type": "code",
      "source": [
        "# Splitting the data\n",
        "features = [\"N\", \"P\", \"K\", \"ph\"]\n",
        "\n",
        "X_train, X_test, y_train, y_test = train_test_split(crops[features], crops.crop, test_size=0.2, random_state=42)"
      ],
      "metadata": {
        "id": "eykjYoH7xx3X"
      },
      "execution_count": 7,
      "outputs": []
    },
    {
      "cell_type": "code",
      "source": [
        "# Predict the crop using each feature\n",
        "model_performance = {}\n",
        "for feature in ['N', 'P', 'K', 'ph']:\n",
        "    log_reg = LogisticRegression(max_iter=2000, multi_class=\"multinomial\")\n",
        "    log_reg.fit(X_train[[feature]], y_train)\n",
        "    y_pred = log_reg.predict(X_test[[feature]])\n",
        "    model_performance[feature] = f1_score(y_test, y_pred, average=\"weighted\")\n",
        "    print(f\"F1-score for {feature}: {model_performance[feature]}\")"
      ],
      "metadata": {
        "colab": {
          "base_uri": "https://localhost:8080/"
        },
        "id": "pU-t0Bj5x4ta",
        "outputId": "afbdb2c6-00e0-4573-82c1-64d72c50e2ff"
      },
      "execution_count": 8,
      "outputs": [
        {
          "output_type": "stream",
          "name": "stdout",
          "text": [
            "F1-score for N: 0.1020973317588429\n",
            "F1-score for P: 0.13310868837820025\n",
            "F1-score for K: 0.24802511765923194\n",
            "F1-score for ph: 0.0458225366614312\n"
          ]
        }
      ]
    },
    {
      "cell_type": "code",
      "source": [
        "# Estimating feature correlation\n",
        "correlations = crops[features].corr()\n",
        "correlations"
      ],
      "metadata": {
        "colab": {
          "base_uri": "https://localhost:8080/",
          "height": 175
        },
        "id": "81c9VXJd0EeU",
        "outputId": "5698ef9b-b672-45b5-cf94-c1b8a2b0ddfc"
      },
      "execution_count": 9,
      "outputs": [
        {
          "output_type": "execute_result",
          "data": {
            "text/plain": [
              "           N         P         K        ph\n",
              "N   1.000000 -0.231460 -0.140512  0.096683\n",
              "P  -0.231460  1.000000  0.736232 -0.138019\n",
              "K  -0.140512  0.736232  1.000000 -0.169503\n",
              "ph  0.096683 -0.138019 -0.169503  1.000000"
            ],
            "text/html": [
              "\n",
              "  <div id=\"df-47c7b3d7-6f2f-492d-aaf6-2b886d8ea99f\" class=\"colab-df-container\">\n",
              "    <div>\n",
              "<style scoped>\n",
              "    .dataframe tbody tr th:only-of-type {\n",
              "        vertical-align: middle;\n",
              "    }\n",
              "\n",
              "    .dataframe tbody tr th {\n",
              "        vertical-align: top;\n",
              "    }\n",
              "\n",
              "    .dataframe thead th {\n",
              "        text-align: right;\n",
              "    }\n",
              "</style>\n",
              "<table border=\"1\" class=\"dataframe\">\n",
              "  <thead>\n",
              "    <tr style=\"text-align: right;\">\n",
              "      <th></th>\n",
              "      <th>N</th>\n",
              "      <th>P</th>\n",
              "      <th>K</th>\n",
              "      <th>ph</th>\n",
              "    </tr>\n",
              "  </thead>\n",
              "  <tbody>\n",
              "    <tr>\n",
              "      <th>N</th>\n",
              "      <td>1.000000</td>\n",
              "      <td>-0.231460</td>\n",
              "      <td>-0.140512</td>\n",
              "      <td>0.096683</td>\n",
              "    </tr>\n",
              "    <tr>\n",
              "      <th>P</th>\n",
              "      <td>-0.231460</td>\n",
              "      <td>1.000000</td>\n",
              "      <td>0.736232</td>\n",
              "      <td>-0.138019</td>\n",
              "    </tr>\n",
              "    <tr>\n",
              "      <th>K</th>\n",
              "      <td>-0.140512</td>\n",
              "      <td>0.736232</td>\n",
              "      <td>1.000000</td>\n",
              "      <td>-0.169503</td>\n",
              "    </tr>\n",
              "    <tr>\n",
              "      <th>ph</th>\n",
              "      <td>0.096683</td>\n",
              "      <td>-0.138019</td>\n",
              "      <td>-0.169503</td>\n",
              "      <td>1.000000</td>\n",
              "    </tr>\n",
              "  </tbody>\n",
              "</table>\n",
              "</div>\n",
              "    <div class=\"colab-df-buttons\">\n",
              "\n",
              "  <div class=\"colab-df-container\">\n",
              "    <button class=\"colab-df-convert\" onclick=\"convertToInteractive('df-47c7b3d7-6f2f-492d-aaf6-2b886d8ea99f')\"\n",
              "            title=\"Convert this dataframe to an interactive table.\"\n",
              "            style=\"display:none;\">\n",
              "\n",
              "  <svg xmlns=\"http://www.w3.org/2000/svg\" height=\"24px\" viewBox=\"0 -960 960 960\">\n",
              "    <path d=\"M120-120v-720h720v720H120Zm60-500h600v-160H180v160Zm220 220h160v-160H400v160Zm0 220h160v-160H400v160ZM180-400h160v-160H180v160Zm440 0h160v-160H620v160ZM180-180h160v-160H180v160Zm440 0h160v-160H620v160Z\"/>\n",
              "  </svg>\n",
              "    </button>\n",
              "\n",
              "  <style>\n",
              "    .colab-df-container {\n",
              "      display:flex;\n",
              "      gap: 12px;\n",
              "    }\n",
              "\n",
              "    .colab-df-convert {\n",
              "      background-color: #E8F0FE;\n",
              "      border: none;\n",
              "      border-radius: 50%;\n",
              "      cursor: pointer;\n",
              "      display: none;\n",
              "      fill: #1967D2;\n",
              "      height: 32px;\n",
              "      padding: 0 0 0 0;\n",
              "      width: 32px;\n",
              "    }\n",
              "\n",
              "    .colab-df-convert:hover {\n",
              "      background-color: #E2EBFA;\n",
              "      box-shadow: 0px 1px 2px rgba(60, 64, 67, 0.3), 0px 1px 3px 1px rgba(60, 64, 67, 0.15);\n",
              "      fill: #174EA6;\n",
              "    }\n",
              "\n",
              "    .colab-df-buttons div {\n",
              "      margin-bottom: 4px;\n",
              "    }\n",
              "\n",
              "    [theme=dark] .colab-df-convert {\n",
              "      background-color: #3B4455;\n",
              "      fill: #D2E3FC;\n",
              "    }\n",
              "\n",
              "    [theme=dark] .colab-df-convert:hover {\n",
              "      background-color: #434B5C;\n",
              "      box-shadow: 0px 1px 3px 1px rgba(0, 0, 0, 0.15);\n",
              "      filter: drop-shadow(0px 1px 2px rgba(0, 0, 0, 0.3));\n",
              "      fill: #FFFFFF;\n",
              "    }\n",
              "  </style>\n",
              "\n",
              "    <script>\n",
              "      const buttonEl =\n",
              "        document.querySelector('#df-47c7b3d7-6f2f-492d-aaf6-2b886d8ea99f button.colab-df-convert');\n",
              "      buttonEl.style.display =\n",
              "        google.colab.kernel.accessAllowed ? 'block' : 'none';\n",
              "\n",
              "      async function convertToInteractive(key) {\n",
              "        const element = document.querySelector('#df-47c7b3d7-6f2f-492d-aaf6-2b886d8ea99f');\n",
              "        const dataTable =\n",
              "          await google.colab.kernel.invokeFunction('convertToInteractive',\n",
              "                                                    [key], {});\n",
              "        if (!dataTable) return;\n",
              "\n",
              "        const docLinkHtml = 'Like what you see? Visit the ' +\n",
              "          '<a target=\"_blank\" href=https://colab.research.google.com/notebooks/data_table.ipynb>data table notebook</a>'\n",
              "          + ' to learn more about interactive tables.';\n",
              "        element.innerHTML = '';\n",
              "        dataTable['output_type'] = 'display_data';\n",
              "        await google.colab.output.renderOutput(dataTable, element);\n",
              "        const docLink = document.createElement('div');\n",
              "        docLink.innerHTML = docLinkHtml;\n",
              "        element.appendChild(docLink);\n",
              "      }\n",
              "    </script>\n",
              "  </div>\n",
              "\n",
              "\n",
              "    <div id=\"df-eb63ad67-4487-4739-ad28-f1e11472f33f\">\n",
              "      <button class=\"colab-df-quickchart\" onclick=\"quickchart('df-eb63ad67-4487-4739-ad28-f1e11472f33f')\"\n",
              "                title=\"Suggest charts\"\n",
              "                style=\"display:none;\">\n",
              "\n",
              "<svg xmlns=\"http://www.w3.org/2000/svg\" height=\"24px\"viewBox=\"0 0 24 24\"\n",
              "     width=\"24px\">\n",
              "    <g>\n",
              "        <path d=\"M19 3H5c-1.1 0-2 .9-2 2v14c0 1.1.9 2 2 2h14c1.1 0 2-.9 2-2V5c0-1.1-.9-2-2-2zM9 17H7v-7h2v7zm4 0h-2V7h2v10zm4 0h-2v-4h2v4z\"/>\n",
              "    </g>\n",
              "</svg>\n",
              "      </button>\n",
              "\n",
              "<style>\n",
              "  .colab-df-quickchart {\n",
              "      --bg-color: #E8F0FE;\n",
              "      --fill-color: #1967D2;\n",
              "      --hover-bg-color: #E2EBFA;\n",
              "      --hover-fill-color: #174EA6;\n",
              "      --disabled-fill-color: #AAA;\n",
              "      --disabled-bg-color: #DDD;\n",
              "  }\n",
              "\n",
              "  [theme=dark] .colab-df-quickchart {\n",
              "      --bg-color: #3B4455;\n",
              "      --fill-color: #D2E3FC;\n",
              "      --hover-bg-color: #434B5C;\n",
              "      --hover-fill-color: #FFFFFF;\n",
              "      --disabled-bg-color: #3B4455;\n",
              "      --disabled-fill-color: #666;\n",
              "  }\n",
              "\n",
              "  .colab-df-quickchart {\n",
              "    background-color: var(--bg-color);\n",
              "    border: none;\n",
              "    border-radius: 50%;\n",
              "    cursor: pointer;\n",
              "    display: none;\n",
              "    fill: var(--fill-color);\n",
              "    height: 32px;\n",
              "    padding: 0;\n",
              "    width: 32px;\n",
              "  }\n",
              "\n",
              "  .colab-df-quickchart:hover {\n",
              "    background-color: var(--hover-bg-color);\n",
              "    box-shadow: 0 1px 2px rgba(60, 64, 67, 0.3), 0 1px 3px 1px rgba(60, 64, 67, 0.15);\n",
              "    fill: var(--button-hover-fill-color);\n",
              "  }\n",
              "\n",
              "  .colab-df-quickchart-complete:disabled,\n",
              "  .colab-df-quickchart-complete:disabled:hover {\n",
              "    background-color: var(--disabled-bg-color);\n",
              "    fill: var(--disabled-fill-color);\n",
              "    box-shadow: none;\n",
              "  }\n",
              "\n",
              "  .colab-df-spinner {\n",
              "    border: 2px solid var(--fill-color);\n",
              "    border-color: transparent;\n",
              "    border-bottom-color: var(--fill-color);\n",
              "    animation:\n",
              "      spin 1s steps(1) infinite;\n",
              "  }\n",
              "\n",
              "  @keyframes spin {\n",
              "    0% {\n",
              "      border-color: transparent;\n",
              "      border-bottom-color: var(--fill-color);\n",
              "      border-left-color: var(--fill-color);\n",
              "    }\n",
              "    20% {\n",
              "      border-color: transparent;\n",
              "      border-left-color: var(--fill-color);\n",
              "      border-top-color: var(--fill-color);\n",
              "    }\n",
              "    30% {\n",
              "      border-color: transparent;\n",
              "      border-left-color: var(--fill-color);\n",
              "      border-top-color: var(--fill-color);\n",
              "      border-right-color: var(--fill-color);\n",
              "    }\n",
              "    40% {\n",
              "      border-color: transparent;\n",
              "      border-right-color: var(--fill-color);\n",
              "      border-top-color: var(--fill-color);\n",
              "    }\n",
              "    60% {\n",
              "      border-color: transparent;\n",
              "      border-right-color: var(--fill-color);\n",
              "    }\n",
              "    80% {\n",
              "      border-color: transparent;\n",
              "      border-right-color: var(--fill-color);\n",
              "      border-bottom-color: var(--fill-color);\n",
              "    }\n",
              "    90% {\n",
              "      border-color: transparent;\n",
              "      border-bottom-color: var(--fill-color);\n",
              "    }\n",
              "  }\n",
              "</style>\n",
              "\n",
              "      <script>\n",
              "        async function quickchart(key) {\n",
              "          const quickchartButtonEl =\n",
              "            document.querySelector('#' + key + ' button');\n",
              "          quickchartButtonEl.disabled = true;  // To prevent multiple clicks.\n",
              "          quickchartButtonEl.classList.add('colab-df-spinner');\n",
              "          try {\n",
              "            const charts = await google.colab.kernel.invokeFunction(\n",
              "                'suggestCharts', [key], {});\n",
              "          } catch (error) {\n",
              "            console.error('Error during call to suggestCharts:', error);\n",
              "          }\n",
              "          quickchartButtonEl.classList.remove('colab-df-spinner');\n",
              "          quickchartButtonEl.classList.add('colab-df-quickchart-complete');\n",
              "        }\n",
              "        (() => {\n",
              "          let quickchartButtonEl =\n",
              "            document.querySelector('#df-eb63ad67-4487-4739-ad28-f1e11472f33f button');\n",
              "          quickchartButtonEl.style.display =\n",
              "            google.colab.kernel.accessAllowed ? 'block' : 'none';\n",
              "        })();\n",
              "      </script>\n",
              "    </div>\n",
              "\n",
              "  <div id=\"id_37ea4fb6-df5e-4695-a39c-3b5c1a0efbd8\">\n",
              "    <style>\n",
              "      .colab-df-generate {\n",
              "        background-color: #E8F0FE;\n",
              "        border: none;\n",
              "        border-radius: 50%;\n",
              "        cursor: pointer;\n",
              "        display: none;\n",
              "        fill: #1967D2;\n",
              "        height: 32px;\n",
              "        padding: 0 0 0 0;\n",
              "        width: 32px;\n",
              "      }\n",
              "\n",
              "      .colab-df-generate:hover {\n",
              "        background-color: #E2EBFA;\n",
              "        box-shadow: 0px 1px 2px rgba(60, 64, 67, 0.3), 0px 1px 3px 1px rgba(60, 64, 67, 0.15);\n",
              "        fill: #174EA6;\n",
              "      }\n",
              "\n",
              "      [theme=dark] .colab-df-generate {\n",
              "        background-color: #3B4455;\n",
              "        fill: #D2E3FC;\n",
              "      }\n",
              "\n",
              "      [theme=dark] .colab-df-generate:hover {\n",
              "        background-color: #434B5C;\n",
              "        box-shadow: 0px 1px 3px 1px rgba(0, 0, 0, 0.15);\n",
              "        filter: drop-shadow(0px 1px 2px rgba(0, 0, 0, 0.3));\n",
              "        fill: #FFFFFF;\n",
              "      }\n",
              "    </style>\n",
              "    <button class=\"colab-df-generate\" onclick=\"generateWithVariable('correlations')\"\n",
              "            title=\"Generate code using this dataframe.\"\n",
              "            style=\"display:none;\">\n",
              "\n",
              "  <svg xmlns=\"http://www.w3.org/2000/svg\" height=\"24px\"viewBox=\"0 0 24 24\"\n",
              "       width=\"24px\">\n",
              "    <path d=\"M7,19H8.4L18.45,9,17,7.55,7,17.6ZM5,21V16.75L18.45,3.32a2,2,0,0,1,2.83,0l1.4,1.43a1.91,1.91,0,0,1,.58,1.4,1.91,1.91,0,0,1-.58,1.4L9.25,21ZM18.45,9,17,7.55Zm-12,3A5.31,5.31,0,0,0,4.9,8.1,5.31,5.31,0,0,0,1,6.5,5.31,5.31,0,0,0,4.9,4.9,5.31,5.31,0,0,0,6.5,1,5.31,5.31,0,0,0,8.1,4.9,5.31,5.31,0,0,0,12,6.5,5.46,5.46,0,0,0,6.5,12Z\"/>\n",
              "  </svg>\n",
              "    </button>\n",
              "    <script>\n",
              "      (() => {\n",
              "      const buttonEl =\n",
              "        document.querySelector('#id_37ea4fb6-df5e-4695-a39c-3b5c1a0efbd8 button.colab-df-generate');\n",
              "      buttonEl.style.display =\n",
              "        google.colab.kernel.accessAllowed ? 'block' : 'none';\n",
              "\n",
              "      buttonEl.onclick = () => {\n",
              "        google.colab.notebook.generateWithVariable('correlations');\n",
              "      }\n",
              "      })();\n",
              "    </script>\n",
              "  </div>\n",
              "\n",
              "    </div>\n",
              "  </div>\n"
            ],
            "application/vnd.google.colaboratory.intrinsic+json": {
              "type": "dataframe",
              "variable_name": "correlations",
              "summary": "{\n  \"name\": \"correlations\",\n  \"rows\": 4,\n  \"fields\": [\n    {\n      \"column\": \"N\",\n      \"properties\": {\n        \"dtype\": \"number\",\n        \"std\": 0.563134981192215,\n        \"min\": -0.23145957738457262,\n        \"max\": 1.0,\n        \"num_unique_values\": 4,\n        \"samples\": [\n          -0.23145957738457262,\n          0.09668284622242848,\n          1.0\n        ],\n        \"semantic_type\": \"\",\n        \"description\": \"\"\n      }\n    },\n    {\n      \"column\": \"P\",\n      \"properties\": {\n        \"dtype\": \"number\",\n        \"std\": 0.6185080645733362,\n        \"min\": -0.23145957738457262,\n        \"max\": 1.0,\n        \"num_unique_values\": 4,\n        \"samples\": [\n          1.0,\n          -0.13801889348863647,\n          -0.23145957738457262\n        ],\n        \"semantic_type\": \"\",\n        \"description\": \"\"\n      }\n    },\n    {\n      \"column\": \"K\",\n      \"properties\": {\n        \"dtype\": \"number\",\n        \"std\": 0.6005521964151833,\n        \"min\": -0.16950309817325426,\n        \"max\": 1.0,\n        \"num_unique_values\": 4,\n        \"samples\": [\n          0.736232217244661,\n          -0.16950309817325426,\n          -0.14051183844915763\n        ],\n        \"semantic_type\": \"\",\n        \"description\": \"\"\n      }\n    },\n    {\n      \"column\": \"ph\",\n      \"properties\": {\n        \"dtype\": \"number\",\n        \"std\": 0.5481588499729951,\n        \"min\": -0.16950309817325426,\n        \"max\": 1.0,\n        \"num_unique_values\": 4,\n        \"samples\": [\n          -0.13801889348863647,\n          1.0,\n          0.09668284622242848\n        ],\n        \"semantic_type\": \"\",\n        \"description\": \"\"\n      }\n    }\n  ]\n}"
            }
          },
          "metadata": {},
          "execution_count": 9
        }
      ]
    },
    {
      "cell_type": "code",
      "source": [
        "sns.heatmap(correlations, annot=True)"
      ],
      "metadata": {
        "colab": {
          "base_uri": "https://localhost:8080/",
          "height": 453
        },
        "id": "sNsadwgg2-VR",
        "outputId": "09ac918f-b951-48a9-a1c2-70044ecb6e47"
      },
      "execution_count": 10,
      "outputs": [
        {
          "output_type": "execute_result",
          "data": {
            "text/plain": [
              "<Axes: >"
            ]
          },
          "metadata": {},
          "execution_count": 10
        },
        {
          "output_type": "display_data",
          "data": {
            "text/plain": [
              "<Figure size 640x480 with 2 Axes>"
            ],
            "image/png": "[encoded data removed]"
          },
          "metadata": {}
        }
      ]
    },
    {
      "cell_type": "code",
      "source": [
        "# Select the final features for the model\n",
        "final_features = ['K', 'N', 'ph']\n",
        "\n",
        "# Producing a final model\n",
        "X_train, X_test, y_train, y_test = train_test_split(crops[final_features], crops[\"crop\"], test_size=0.2, random_state=42)\n",
        "\n",
        "log_reg = LogisticRegression(max_iter=2000, multi_class=\"multinomial\")\n",
        "log_reg.fit(X_train, y_train)\n",
        "y_pred = log_reg.predict(X_test)\n",
        "model_performance = f1_score(y_test, y_pred, average=\"weighted\")\n",
        "print(model_performance)"
      ],
      "metadata": {
        "colab": {
          "base_uri": "https://localhost:8080/"
        },
        "id": "vvoiOaa73KEz",
        "outputId": "507a9610-1c2e-4d6f-b7a2-50e1fe575f8f"
      },
      "execution_count": 11,
      "outputs": [
        {
          "output_type": "stream",
          "name": "stdout",
          "text": [
            "0.565077845525084\n"
          ]
        }
      ]
    },
    {
      "cell_type": "code",
      "source": [
        "# 🌾 Define prediction function\n",
        "def predict_crop(N, P, K, ph):\n",
        "    \"\"\"\n",
        "    Predicts the crop based on soil nutrient values and pH.\n",
        "    Args:\n",
        "        N (float): Nitrogen value.\n",
        "        P (float): Phosphorus value.\n",
        "        K (float): Potassium value.\n",
        "        ph (float): pH value.\n",
        "    Returns:\n",
        "        str: The predicted crop.\n",
        "    \"\"\"\n",
        "    # Order of columns must match final_features\n",
        "    input_data = pd.DataFrame([[K, N, ph]], columns=final_features)\n",
        "    predicted_crop = log_reg.predict(input_data)\n",
        "    return predicted_crop[0]\n",
        "\n",
        "# 🧪 Test the prediction function\n",
        "N_val = 90\n",
        "P_val = 42\n",
        "K_val = 37\n",
        "pH_val = 6.5\n",
        "\n",
        "predicted_crop = predict_crop(N_val, P_val, K_val, pH_val)\n",
        "print(f\"🌱 Predicted Crop: {predicted_crop}\")"
      ],
      "metadata": {
        "colab": {
          "base_uri": "https://localhost:8080/"
        },
        "id": "3JiOfTVcnCHR",
        "outputId": "2dd1a8de-0439-495e-d2ec-9f11f3cb1dc4"
      },
      "execution_count": 12,
      "outputs": [
        {
          "output_type": "stream",
          "name": "stdout",
          "text": [
            "🌱 Predicted Crop: rice\n"
          ]
        }
      ]
    },
    {
      "cell_type": "code",
      "source": [
        "# 🧪 Evaluate\n",
        "from sklearn.metrics import accuracy_score\n",
        "\n",
        "f1 = f1_score(y_test, y_pred, average='weighted')\n",
        "accuracy = accuracy_score(y_test, y_pred)\n",
        "\n",
        "print(f\"\\n✅ Model Evaluation using all features:\")\n",
        "print(f\"   • Accuracy       : {accuracy:.4f}\")\n",
        "print(f\"   • Weighted F1-score: {f1:.4f}\")"
      ],
      "metadata": {
        "colab": {
          "base_uri": "https://localhost:8080/"
        },
        "id": "ngo5t0wWsiCG",
        "outputId": "ac29f4a1-8530-4f08-ee06-5b5c052034f9"
      },
      "execution_count": 13,
      "outputs": [
        {
          "output_type": "stream",
          "name": "stdout",
          "text": [
            "\n",
            "✅ Model Evaluation using all features:\n",
            "   • Accuracy       : 0.5750\n",
            "   • Weighted F1-score: 0.5651\n"
          ]
        }
      ]
    },
    {
      "cell_type": "code",
      "source": [
        "# Initialize lists to store accuracy and model names\n",
        "acc = []\n",
        "model = []"
      ],
      "metadata": {
        "id": "jFhadF1t10zF"
      },
      "execution_count": 14,
      "outputs": []
    },
    {
      "cell_type": "markdown",
      "source": [
        "**Decision Tree Classification**"
      ],
      "metadata": {
        "id": "ubiPFO23EM36"
      }
    },
    {
      "cell_type": "code",
      "source": [
        "from sklearn.tree import DecisionTreeClassifier\n",
        "from sklearn import metrics\n",
        "from sklearn.metrics import classification_report\n",
        "\n",
        "DecisionTree = DecisionTreeClassifier(criterion=\"entropy\",random_state=2,max_depth=5)\n",
        "\n",
        "# The previous cell already split the data, no need to split again here.\n",
        "# Ensure this fitting and prediction block is not indented.\n",
        "# Correcting variable names from Xtrain, Ytrain, Xtest, Ytest to X_train, y_train, X_test, y_test\n",
        "DecisionTree.fit(X_train, y_train)\n",
        "\n",
        "predicted_values = DecisionTree.predict(X_test)\n",
        "x = metrics.accuracy_score(y_test, predicted_values)\n",
        "# Assuming acc and model are lists defined elsewhere in the notebook\n",
        "# acc.append(x)\n",
        "# model.append('Decision Tree')\n",
        "print(\"DecisionTrees's Accuracy is: \", x*100)\n",
        "\n",
        "print(classification_report(y_test,predicted_values))"
      ],
      "metadata": {
        "colab": {
          "base_uri": "https://localhost:8080/"
        },
        "id": "AFwh5Tods7Gf",
        "outputId": "29334264-5767-413b-9e1a-7c4d17304cbc"
      },
      "execution_count": 15,
      "outputs": [
        {
          "output_type": "stream",
          "name": "stdout",
          "text": [
            "DecisionTrees's Accuracy is:  60.68181818181818\n",
            "              precision    recall  f1-score   support\n",
            "\n",
            "       apple       1.00      0.04      0.08        23\n",
            "      banana       1.00      0.38      0.55        21\n",
            "   blackgram       0.00      0.00      0.00        20\n",
            "    chickpea       1.00      0.96      0.98        26\n",
            "     coconut       0.73      0.89      0.80        27\n",
            "      coffee       0.75      0.88      0.81        17\n",
            "      cotton       0.85      1.00      0.92        17\n",
            "      grapes       0.39      1.00      0.56        14\n",
            "        jute       0.62      0.87      0.73        23\n",
            " kidneybeans       0.67      1.00      0.80        20\n",
            "      lentil       0.14      0.91      0.24        11\n",
            "       maize       1.00      0.95      0.98        21\n",
            "       mango       0.82      0.47      0.60        19\n",
            "   mothbeans       0.00      0.00      0.00        24\n",
            "    mungbean       0.00      0.00      0.00        19\n",
            "   muskmelon       0.33      1.00      0.50        17\n",
            "      orange       1.00      1.00      1.00        14\n",
            "      papaya       0.95      0.87      0.91        23\n",
            "  pigeonpeas       0.45      0.39      0.42        23\n",
            " pomegranate       0.88      0.91      0.89        23\n",
            "        rice       1.00      0.16      0.27        19\n",
            "  watermelon       0.00      0.00      0.00        19\n",
            "\n",
            "    accuracy                           0.61       440\n",
            "   macro avg       0.62      0.62      0.55       440\n",
            "weighted avg       0.63      0.61      0.55       440\n",
            "\n"
          ]
        }
      ]
    },
    {
      "cell_type": "code",
      "source": [
        "from sklearn.model_selection import cross_val_score"
      ],
      "metadata": {
        "id": "oym0V9Nkw9am"
      },
      "execution_count": 16,
      "outputs": []
    },
    {
      "cell_type": "code",
      "source": [
        "import pickle\n",
        "# Dump the trained Naive Bayes classifier with Pickle\n",
        "DT_pkl_filename = 'DecisionTree.pkl'\n",
        "# Open the file to save as pkl file\n",
        "DT_Model_pkl = open(DT_pkl_filename, 'wb')\n",
        "pickle.dump(DecisionTree, DT_Model_pkl)\n",
        "# Close the pickle instances\n",
        "DT_Model_pkl.close()"
      ],
      "metadata": {
        "id": "0XI4zCnHw-5L"
      },
      "execution_count": 17,
      "outputs": []
    },
    {
      "cell_type": "code",
      "source": [
        "f1_score"
      ],
      "metadata": {
        "colab": {
          "base_uri": "https://localhost:8080/",
          "height": 204
        },
        "id": "T3tApwW7xcV0",
        "outputId": "3ab2089c-c6b4-47cb-e09c-e00505b0c9cd"
      },
      "execution_count": 18,
      "outputs": [
        {
          "output_type": "execute_result",
          "data": {
            "text/plain": [
              "<function sklearn.metrics._classification.f1_score(y_true, y_pred, *, labels=None, pos_label=1, average='binary', sample_weight=None, zero_division='warn')>"
            ],
            "text/html": [
              "<div style=\"max-width:800px; border: 1px solid var(--colab-border-color);\"><style>\n",
              "      pre.function-repr-contents {\n",
              "        overflow-x: auto;\n",
              "        padding: 8px 12px;\n",
              "        max-height: 500px;\n",
              "      }\n",
              "\n",
              "      pre.function-repr-contents.function-repr-contents-collapsed {\n",
              "        cursor: pointer;\n",
              "        max-height: 100px;\n",
              "      }\n",
              "    </style>\n",
              "    <pre style=\"white-space: initial; background:\n",
              "         var(--colab-secondary-surface-color); padding: 8px 12px;\n",
              "         border-bottom: 1px solid var(--colab-border-color);\"><b>sklearn.metrics._classification.f1_score</b><br/>def f1_score(y_true, y_pred, *, labels=None, pos_label=1, average=&#x27;binary&#x27;, sample_weight=None, zero_division=&#x27;warn&#x27;)</pre><pre class=\"function-repr-contents function-repr-contents-collapsed\" style=\"\"><a class=\"filepath\" style=\"display:none\" href=\"#\">/usr/local/lib/python3.11/dist-packages/sklearn/metrics/_classification.py</a>Compute the F1 score, also known as balanced F-score or F-measure.\n",
              "\n",
              "The F1 score can be interpreted as a harmonic mean of the precision and\n",
              "recall, where an F1 score reaches its best value at 1 and worst score at 0.\n",
              "The relative contribution of precision and recall to the F1 score are\n",
              "equal. The formula for the F1 score is:\n",
              "\n",
              ".. math::\n",
              "    \\text{F1} = \\frac{2 * \\text{TP}}{2 * \\text{TP} + \\text{FP} + \\text{FN}}\n",
              "\n",
              "Where :math:`\\text{TP}` is the number of true positives, :math:`\\text{FN}` is the\n",
              "number of false negatives, and :math:`\\text{FP}` is the number of false positives.\n",
              "F1 is by default\n",
              "calculated as 0.0 when there are no true positives, false negatives, or\n",
              "false positives.\n",
              "\n",
              "Support beyond :term:`binary` targets is achieved by treating :term:`multiclass`\n",
              "and :term:`multilabel` data as a collection of binary problems, one for each\n",
              "label. For the :term:`binary` case, setting `average=&#x27;binary&#x27;` will return\n",
              "F1 score for `pos_label`. If `average` is not `&#x27;binary&#x27;`, `pos_label` is ignored\n",
              "and F1 score for both classes are computed, then averaged or both returned (when\n",
              "`average=None`). Similarly, for :term:`multiclass` and :term:`multilabel` targets,\n",
              "F1 score for all `labels` are either returned or averaged depending on the\n",
              "`average` parameter. Use `labels` specify the set of labels to calculate F1 score\n",
              "for.\n",
              "\n",
              "Read more in the :ref:`User Guide &lt;precision_recall_f_measure_metrics&gt;`.\n",
              "\n",
              "Parameters\n",
              "----------\n",
              "y_true : 1d array-like, or label indicator array / sparse matrix\n",
              "    Ground truth (correct) target values.\n",
              "\n",
              "y_pred : 1d array-like, or label indicator array / sparse matrix\n",
              "    Estimated targets as returned by a classifier.\n",
              "\n",
              "labels : array-like, default=None\n",
              "    The set of labels to include when `average != &#x27;binary&#x27;`, and their\n",
              "    order if `average is None`. Labels present in the data can be\n",
              "    excluded, for example in multiclass classification to exclude a &quot;negative\n",
              "    class&quot;. Labels not present in the data can be included and will be\n",
              "    &quot;assigned&quot; 0 samples. For multilabel targets, labels are column indices.\n",
              "    By default, all labels in `y_true` and `y_pred` are used in sorted order.\n",
              "\n",
              "    .. versionchanged:: 0.17\n",
              "       Parameter `labels` improved for multiclass problem.\n",
              "\n",
              "pos_label : int, float, bool or str, default=1\n",
              "    The class to report if `average=&#x27;binary&#x27;` and the data is binary,\n",
              "    otherwise this parameter is ignored.\n",
              "    For multiclass or multilabel targets, set `labels=[pos_label]` and\n",
              "    `average != &#x27;binary&#x27;` to report metrics for one label only.\n",
              "\n",
              "average : {&#x27;micro&#x27;, &#x27;macro&#x27;, &#x27;samples&#x27;, &#x27;weighted&#x27;, &#x27;binary&#x27;} or None,             default=&#x27;binary&#x27;\n",
              "    This parameter is required for multiclass/multilabel targets.\n",
              "    If ``None``, the metrics for each class are returned. Otherwise, this\n",
              "    determines the type of averaging performed on the data:\n",
              "\n",
              "    ``&#x27;binary&#x27;``:\n",
              "        Only report results for the class specified by ``pos_label``.\n",
              "        This is applicable only if targets (``y_{true,pred}``) are binary.\n",
              "    ``&#x27;micro&#x27;``:\n",
              "        Calculate metrics globally by counting the total true positives,\n",
              "        false negatives and false positives.\n",
              "    ``&#x27;macro&#x27;``:\n",
              "        Calculate metrics for each label, and find their unweighted\n",
              "        mean.  This does not take label imbalance into account.\n",
              "    ``&#x27;weighted&#x27;``:\n",
              "        Calculate metrics for each label, and find their average weighted\n",
              "        by support (the number of true instances for each label). This\n",
              "        alters &#x27;macro&#x27; to account for label imbalance; it can result in an\n",
              "        F-score that is not between precision and recall.\n",
              "    ``&#x27;samples&#x27;``:\n",
              "        Calculate metrics for each instance, and find their average (only\n",
              "        meaningful for multilabel classification where this differs from\n",
              "        :func:`accuracy_score`).\n",
              "\n",
              "sample_weight : array-like of shape (n_samples,), default=None\n",
              "    Sample weights.\n",
              "\n",
              "zero_division : {&quot;warn&quot;, 0.0, 1.0, np.nan}, default=&quot;warn&quot;\n",
              "    Sets the value to return when there is a zero division, i.e. when all\n",
              "    predictions and labels are negative.\n",
              "\n",
              "    Notes:\n",
              "    - If set to &quot;warn&quot;, this acts like 0, but a warning is also raised.\n",
              "    - If set to `np.nan`, such values will be excluded from the average.\n",
              "\n",
              "    .. versionadded:: 1.3\n",
              "       `np.nan` option was added.\n",
              "\n",
              "Returns\n",
              "-------\n",
              "f1_score : float or array of float, shape = [n_unique_labels]\n",
              "    F1 score of the positive class in binary classification or weighted\n",
              "    average of the F1 scores of each class for the multiclass task.\n",
              "\n",
              "See Also\n",
              "--------\n",
              "fbeta_score : Compute the F-beta score.\n",
              "precision_recall_fscore_support : Compute the precision, recall, F-score,\n",
              "    and support.\n",
              "jaccard_score : Compute the Jaccard similarity coefficient score.\n",
              "multilabel_confusion_matrix : Compute a confusion matrix for each class or\n",
              "    sample.\n",
              "\n",
              "Notes\n",
              "-----\n",
              "When ``true positive + false positive + false negative == 0`` (i.e. a class\n",
              "is completely absent from both ``y_true`` or ``y_pred``), f-score is\n",
              "undefined. In such cases, by default f-score will be set to 0.0, and\n",
              "``UndefinedMetricWarning`` will be raised. This behavior can be modified by\n",
              "setting the ``zero_division`` parameter.\n",
              "\n",
              "References\n",
              "----------\n",
              ".. [1] `Wikipedia entry for the F1-score\n",
              "       &lt;https://en.wikipedia.org/wiki/F1_score&gt;`_.\n",
              "\n",
              "Examples\n",
              "--------\n",
              "&gt;&gt;&gt; import numpy as np\n",
              "&gt;&gt;&gt; from sklearn.metrics import f1_score\n",
              "&gt;&gt;&gt; y_true = [0, 1, 2, 0, 1, 2]\n",
              "&gt;&gt;&gt; y_pred = [0, 2, 1, 0, 0, 1]\n",
              "&gt;&gt;&gt; f1_score(y_true, y_pred, average=&#x27;macro&#x27;)\n",
              "0.26...\n",
              "&gt;&gt;&gt; f1_score(y_true, y_pred, average=&#x27;micro&#x27;)\n",
              "0.33...\n",
              "&gt;&gt;&gt; f1_score(y_true, y_pred, average=&#x27;weighted&#x27;)\n",
              "0.26...\n",
              "&gt;&gt;&gt; f1_score(y_true, y_pred, average=None)\n",
              "array([0.8, 0. , 0. ])\n",
              "\n",
              "&gt;&gt;&gt; # binary classification\n",
              "&gt;&gt;&gt; y_true_empty = [0, 0, 0, 0, 0, 0]\n",
              "&gt;&gt;&gt; y_pred_empty = [0, 0, 0, 0, 0, 0]\n",
              "&gt;&gt;&gt; f1_score(y_true_empty, y_pred_empty)\n",
              "0.0...\n",
              "&gt;&gt;&gt; f1_score(y_true_empty, y_pred_empty, zero_division=1.0)\n",
              "1.0...\n",
              "&gt;&gt;&gt; f1_score(y_true_empty, y_pred_empty, zero_division=np.nan)\n",
              "nan...\n",
              "\n",
              "&gt;&gt;&gt; # multilabel classification\n",
              "&gt;&gt;&gt; y_true = [[0, 0, 0], [1, 1, 1], [0, 1, 1]]\n",
              "&gt;&gt;&gt; y_pred = [[0, 0, 0], [1, 1, 1], [1, 1, 0]]\n",
              "&gt;&gt;&gt; f1_score(y_true, y_pred, average=None)\n",
              "array([0.66666667, 1.        , 0.66666667])</pre>\n",
              "      <script>\n",
              "      if (google.colab.kernel.accessAllowed && google.colab.files && google.colab.files.view) {\n",
              "        for (const element of document.querySelectorAll('.filepath')) {\n",
              "          element.style.display = 'block'\n",
              "          element.onclick = (event) => {\n",
              "            event.preventDefault();\n",
              "            event.stopPropagation();\n",
              "            google.colab.files.view(element.textContent, 1144);\n",
              "          };\n",
              "        }\n",
              "      }\n",
              "      for (const element of document.querySelectorAll('.function-repr-contents')) {\n",
              "        element.onclick = (event) => {\n",
              "          event.preventDefault();\n",
              "          event.stopPropagation();\n",
              "          element.classList.toggle('function-repr-contents-collapsed');\n",
              "        };\n",
              "      }\n",
              "      </script>\n",
              "      </div>"
            ]
          },
          "metadata": {},
          "execution_count": 18
        }
      ]
    },
    {
      "cell_type": "markdown",
      "source": [
        "**Guassian Naive Bayes**"
      ],
      "metadata": {
        "id": "_VnvT9X9zFSm"
      }
    },
    {
      "cell_type": "code",
      "source": [
        "from sklearn.naive_bayes import GaussianNB\n",
        "from sklearn import metrics\n",
        "from sklearn.metrics import classification_report\n",
        "\n",
        "NaiveBayes = GaussianNB()\n",
        "\n",
        "# Correcting variable names from Xtrain, Ytrain to X_train, y_train\n",
        "NaiveBayes.fit(X_train, y_train)\n",
        "\n",
        "# Correcting variable names from Xtest to X_test\n",
        "predicted_values = NaiveBayes.predict(X_test)\n",
        "# Correcting variable names from Ytest to y_test\n",
        "x = metrics.accuracy_score(y_test, predicted_values)\n",
        "# acc and model are not defined, comment out these lines\n",
        "# acc.append(x)\n",
        "# model.append('Naive Bayes')\n",
        "print(\"Naive Bayes's Accuracy is: \", x)\n",
        "\n",
        "# Correcting variable names from Ytest to y_test\n",
        "print(classification_report(y_test,predicted_values))"
      ],
      "metadata": {
        "colab": {
          "base_uri": "https://localhost:8080/"
        },
        "id": "dSAfMxD2xDoD",
        "outputId": "b09c1007-124c-4565-fe57-79b9270afd15"
      },
      "execution_count": 19,
      "outputs": [
        {
          "output_type": "stream",
          "name": "stdout",
          "text": [
            "Naive Bayes's Accuracy is:  0.6931818181818182\n",
            "              precision    recall  f1-score   support\n",
            "\n",
            "       apple       0.77      0.43      0.56        23\n",
            "      banana       0.74      0.67      0.70        21\n",
            "   blackgram       0.63      0.60      0.62        20\n",
            "    chickpea       1.00      1.00      1.00        26\n",
            "     coconut       0.69      0.81      0.75        27\n",
            "      coffee       0.76      0.94      0.84        17\n",
            "      cotton       0.94      0.88      0.91        17\n",
            "      grapes       0.46      0.79      0.58        14\n",
            "        jute       0.58      0.78      0.67        23\n",
            " kidneybeans       0.62      1.00      0.77        20\n",
            "      lentil       0.30      0.55      0.39        11\n",
            "       maize       1.00      1.00      1.00        21\n",
            "       mango       0.75      0.47      0.58        19\n",
            "   mothbeans       0.89      0.33      0.48        24\n",
            "    mungbean       0.45      0.53      0.49        19\n",
            "   muskmelon       0.35      0.53      0.42        17\n",
            "      orange       1.00      1.00      1.00        14\n",
            "      papaya       0.88      1.00      0.94        23\n",
            "  pigeonpeas       0.56      0.43      0.49        23\n",
            " pomegranate       0.90      0.83      0.86        23\n",
            "        rice       0.67      0.21      0.32        19\n",
            "  watermelon       0.67      0.42      0.52        19\n",
            "\n",
            "    accuracy                           0.69       440\n",
            "   macro avg       0.71      0.69      0.68       440\n",
            "weighted avg       0.73      0.69      0.68       440\n",
            "\n"
          ]
        }
      ]
    },
    {
      "cell_type": "code",
      "source": [
        "# Cross validation score (NaiveBayes)\n",
        "target = crops['crop'] # Define the target variable\n",
        "# Pass the DataFrame with selected feature columns to cross_val_score\n",
        "score = cross_val_score(NaiveBayes, crops[features], target, cv=5)\n",
        "score"
      ],
      "metadata": {
        "colab": {
          "base_uri": "https://localhost:8080/"
        },
        "id": "dFb8ecu4x2w1",
        "outputId": "911b5ec9-3d04-4028-d188-5c4fb46e5966"
      },
      "execution_count": 20,
      "outputs": [
        {
          "output_type": "execute_result",
          "data": {
            "text/plain": [
              "array([0.75681818, 0.80454545, 0.8       , 0.77272727, 0.78636364])"
            ]
          },
          "metadata": {},
          "execution_count": 20
        }
      ]
    },
    {
      "cell_type": "markdown",
      "source": [
        "**Saving trained Guassian Naive Bayes model**"
      ],
      "metadata": {
        "id": "yl7sXnv2y2BD"
      }
    },
    {
      "cell_type": "code",
      "source": [
        "import pickle\n",
        "# Dump the trained Naive Bayes classifier with Pickle\n",
        "NB_pkl_filename = 'NBClassifier.pkl'\n",
        "# Open the file to save as pkl file\n",
        "NB_Model_pkl = open(NB_pkl_filename, 'wb')\n",
        "pickle.dump(NaiveBayes, NB_Model_pkl)\n",
        "# Close the pickle instances\n",
        "NB_Model_pkl.close()"
      ],
      "metadata": {
        "id": "z5MCbFKmyGKg"
      },
      "execution_count": 21,
      "outputs": []
    },
    {
      "cell_type": "markdown",
      "source": [
        "**Support Vector Machine (SVM)**\n",
        "\n"
      ],
      "metadata": {
        "id": "vPgmMJ5jylYg"
      }
    },
    {
      "cell_type": "code",
      "source": [
        "from sklearn.svm import SVC\n",
        "\n",
        "SVM = SVC(gamma='auto')\n",
        "\n",
        "# Correcting variable names from Xtrain, Ytrain to X_train, y_train\n",
        "SVM.fit(X_train,y_train)\n",
        "\n",
        "# Correcting variable names from Xtest to X_test\n",
        "predicted_values = SVM.predict(X_test)\n",
        "\n",
        "# Correcting variable names from Ytest to y_test\n",
        "x = metrics.accuracy_score(y_test, predicted_values)\n",
        "# acc and model are not defined, comment out these lines\n",
        "# acc.append(x)\n",
        "# model.append('SVM')\n",
        "print(\"SVM's Accuracy is: \", x)\n",
        "\n",
        "# Correcting variable names from Ytest to y_test\n",
        "print(classification_report(y_test,predicted_values))"
      ],
      "metadata": {
        "colab": {
          "base_uri": "https://localhost:8080/"
        },
        "id": "t9agdy39yKMq",
        "outputId": "d1cecb6e-b64c-440c-9852-ae83d9a1fcc6"
      },
      "execution_count": 22,
      "outputs": [
        {
          "output_type": "stream",
          "name": "stdout",
          "text": [
            "SVM's Accuracy is:  0.5409090909090909\n",
            "              precision    recall  f1-score   support\n",
            "\n",
            "       apple       0.73      0.48      0.58        23\n",
            "      banana       0.41      0.33      0.37        21\n",
            "   blackgram       0.62      0.50      0.56        20\n",
            "    chickpea       1.00      0.81      0.89        26\n",
            "     coconut       0.58      0.41      0.48        27\n",
            "      coffee       0.80      0.94      0.86        17\n",
            "      cotton       1.00      0.94      0.97        17\n",
            "      grapes       0.45      0.71      0.56        14\n",
            "        jute       0.44      0.35      0.39        23\n",
            " kidneybeans       0.33      0.45      0.38        20\n",
            "      lentil       0.00      0.00      0.00        11\n",
            "       maize       1.00      0.95      0.98        21\n",
            "       mango       0.31      0.47      0.38        19\n",
            "   mothbeans       0.27      0.25      0.26        24\n",
            "    mungbean       0.33      0.37      0.35        19\n",
            "   muskmelon       0.37      0.41      0.39        17\n",
            "      orange       0.93      0.93      0.93        14\n",
            "      papaya       0.95      0.91      0.93        23\n",
            "  pigeonpeas       0.32      0.30      0.31        23\n",
            " pomegranate       1.00      0.74      0.85        23\n",
            "        rice       0.36      0.42      0.39        19\n",
            "  watermelon       0.19      0.21      0.20        19\n",
            "\n",
            "    accuracy                           0.54       440\n",
            "   macro avg       0.56      0.54      0.55       440\n",
            "weighted avg       0.58      0.54      0.55       440\n",
            "\n"
          ]
        }
      ]
    },
    {
      "cell_type": "code",
      "source": [
        "# Cross validation score (SVM)\n",
        "score = cross_val_score(SVM,crops[features],target,cv=5)\n",
        "score"
      ],
      "metadata": {
        "colab": {
          "base_uri": "https://localhost:8080/"
        },
        "id": "W1r3by2ayc_x",
        "outputId": "f2c0a5dd-34c1-4b51-8bea-8aab2acfa834"
      },
      "execution_count": 23,
      "outputs": [
        {
          "output_type": "execute_result",
          "data": {
            "text/plain": [
              "array([0.44772727, 0.52727273, 0.5       , 0.55681818, 0.54772727])"
            ]
          },
          "metadata": {},
          "execution_count": 23
        }
      ]
    },
    {
      "cell_type": "markdown",
      "source": [
        "**Logistic Regression**"
      ],
      "metadata": {
        "id": "aClYhwYUzf1F"
      }
    },
    {
      "cell_type": "code",
      "source": [
        "from sklearn.linear_model import LogisticRegression\n",
        "from sklearn.metrics import accuracy_score, classification_report # Import necessary metrics\n",
        "\n",
        "LogReg = LogisticRegression(random_state=2)\n",
        "\n",
        "# Correcting variable names from Xtrain, Ytrain to X_train, y_train\n",
        "LogReg.fit(X_train, y_train)\n",
        "\n",
        "# Correcting variable names from Xtest to X_test\n",
        "predicted_values = LogReg.predict(X_test)\n",
        "\n",
        "# Correcting variable names from Ytest to y_test\n",
        "x = accuracy_score(y_test, predicted_values)\n",
        "# acc and model are not defined, comment out these lines\n",
        "# acc.append(x)\n",
        "# model.append('Logistic Regression')\n",
        "print(\"Logistic Regression's Accuracy is: \", x)\n",
        "\n",
        "# Correcting variable names from Ytest to y_test\n",
        "print(classification_report(y_test, predicted_values))"
      ],
      "metadata": {
        "colab": {
          "base_uri": "https://localhost:8080/"
        },
        "id": "KEhM2_syzlQu",
        "outputId": "4c53076a-4fa5-4116-d41d-8b677c9566b8"
      },
      "execution_count": 24,
      "outputs": [
        {
          "output_type": "stream",
          "name": "stdout",
          "text": [
            "Logistic Regression's Accuracy is:  0.45227272727272727\n",
            "              precision    recall  f1-score   support\n",
            "\n",
            "       apple       0.60      0.26      0.36        23\n",
            "      banana       0.73      0.52      0.61        21\n",
            "   blackgram       0.39      0.60      0.47        20\n",
            "    chickpea       0.87      1.00      0.93        26\n",
            "     coconut       0.18      0.11      0.14        27\n",
            "      coffee       0.57      0.76      0.65        17\n",
            "      cotton       0.72      0.76      0.74        17\n",
            "      grapes       0.37      0.71      0.49        14\n",
            "        jute       0.43      0.57      0.49        23\n",
            " kidneybeans       0.15      0.25      0.19        20\n",
            "      lentil       0.20      0.73      0.31        11\n",
            "       maize       0.64      0.43      0.51        21\n",
            "       mango       0.24      0.21      0.22        19\n",
            "   mothbeans       0.00      0.00      0.00        24\n",
            "    mungbean       0.00      0.00      0.00        19\n",
            "   muskmelon       0.41      0.65      0.50        17\n",
            "      orange       0.86      0.86      0.86        14\n",
            "      papaya       0.76      0.83      0.79        23\n",
            "  pigeonpeas       0.50      0.09      0.15        23\n",
            " pomegranate       0.36      0.52      0.43        23\n",
            "        rice       0.36      0.21      0.27        19\n",
            "  watermelon       0.38      0.32      0.34        19\n",
            "\n",
            "    accuracy                           0.45       440\n",
            "   macro avg       0.44      0.47      0.43       440\n",
            "weighted avg       0.44      0.45      0.42       440\n",
            "\n"
          ]
        }
      ]
    },
    {
      "cell_type": "code",
      "source": [
        "# Cross validation score (Logistic Regression)\n",
        "# Pass the DataFrame with selected feature columns to cross_val_score\n",
        "score = cross_val_score(LogReg, crops[features], target, cv=5)\n",
        "score"
      ],
      "metadata": {
        "colab": {
          "base_uri": "https://localhost:8080/"
        },
        "id": "OUfnrXGnz5-J",
        "outputId": "19716467-dade-4bd1-a55b-5dccacbd359b"
      },
      "execution_count": 25,
      "outputs": [
        {
          "output_type": "execute_result",
          "data": {
            "text/plain": [
              "array([0.57727273, 0.59545455, 0.59545455, 0.61363636, 0.59090909])"
            ]
          },
          "metadata": {},
          "execution_count": 25
        }
      ]
    },
    {
      "cell_type": "markdown",
      "source": [
        "**Saving trained Logistic Regression model**"
      ],
      "metadata": {
        "id": "Nr-SX5Af0Ex-"
      }
    },
    {
      "cell_type": "code",
      "source": [
        "import pickle\n",
        "# Dump the trained Naive Bayes classifier with Pickle\n",
        "LR_pkl_filename = 'LogisticRegression.pkl'\n",
        "# Open the file to save as pkl file\n",
        "LR_Model_pkl = open(DT_pkl_filename, 'wb')\n",
        "pickle.dump(LogReg, LR_Model_pkl)\n",
        "# Close the pickle instances\n",
        "LR_Model_pkl.close()"
      ],
      "metadata": {
        "id": "r-mYJ86P0GaX"
      },
      "execution_count": 26,
      "outputs": []
    },
    {
      "cell_type": "markdown",
      "source": [
        "**RANDOM FOREST**"
      ],
      "metadata": {
        "id": "ri-w6TzL0Q7F"
      }
    },
    {
      "cell_type": "code",
      "source": [
        "from sklearn.ensemble import RandomForestClassifier\n",
        "from sklearn import metrics\n",
        "from sklearn.metrics import classification_report\n",
        "\n",
        "RF = RandomForestClassifier(n_estimators=20, random_state=0)\n",
        "# Corrected variable names from Xtrain, Ytrain to X_train, y_train\n",
        "RF.fit(X_train, y_train)\n",
        "\n",
        "# Corrected variable names from Xtest to X_test\n",
        "predicted_values = RF.predict(X_test)\n",
        "\n",
        "# Corrected variable names from Ytest to y_test\n",
        "x = metrics.accuracy_score(y_test, predicted_values)\n",
        "# acc and model are not defined, comment out these lines\n",
        "# acc.append(x)\n",
        "# model.append('RF')\n",
        "print(\"RF's Accuracy is: \", x)\n",
        "\n",
        "# Corrected variable names from Ytest to y_test\n",
        "print(classification_report(y_test, predicted_values))"
      ],
      "metadata": {
        "colab": {
          "base_uri": "https://localhost:8080/"
        },
        "id": "MVn_eMe70M12",
        "outputId": "3259d90e-f60a-4805-dea1-fa00927db7ad"
      },
      "execution_count": 27,
      "outputs": [
        {
          "output_type": "stream",
          "name": "stdout",
          "text": [
            "RF's Accuracy is:  0.6772727272727272\n",
            "              precision    recall  f1-score   support\n",
            "\n",
            "       apple       0.65      0.57      0.60        23\n",
            "      banana       0.71      0.48      0.57        21\n",
            "   blackgram       0.70      0.70      0.70        20\n",
            "    chickpea       1.00      1.00      1.00        26\n",
            "     coconut       0.66      0.78      0.71        27\n",
            "      coffee       0.71      0.88      0.79        17\n",
            "      cotton       0.89      1.00      0.94        17\n",
            "      grapes       0.41      0.50      0.45        14\n",
            "        jute       0.61      0.61      0.61        23\n",
            " kidneybeans       0.67      0.80      0.73        20\n",
            "      lentil       0.22      0.36      0.28        11\n",
            "       maize       1.00      0.95      0.98        21\n",
            "       mango       0.53      0.42      0.47        19\n",
            "   mothbeans       0.65      0.54      0.59        24\n",
            "    mungbean       0.44      0.37      0.40        19\n",
            "   muskmelon       0.36      0.47      0.41        17\n",
            "      orange       0.93      1.00      0.97        14\n",
            "      papaya       0.92      1.00      0.96        23\n",
            "  pigeonpeas       0.59      0.43      0.50        23\n",
            " pomegranate       0.86      0.83      0.84        23\n",
            "        rice       0.54      0.37      0.44        19\n",
            "  watermelon       0.57      0.63      0.60        19\n",
            "\n",
            "    accuracy                           0.68       440\n",
            "   macro avg       0.67      0.67      0.66       440\n",
            "weighted avg       0.68      0.68      0.67       440\n",
            "\n"
          ]
        }
      ]
    },
    {
      "cell_type": "code",
      "source": [
        "# Cross validation score (Random Forest)\n",
        "# Pass the DataFrame with the selected feature columns to cross_val_score\n",
        "score = cross_val_score(RF, crops[features], target, cv=5)\n",
        "score"
      ],
      "metadata": {
        "colab": {
          "base_uri": "https://localhost:8080/"
        },
        "id": "J1gvnKER0dld",
        "outputId": "d050fe9e-8acc-42ea-d826-c55181006833"
      },
      "execution_count": 28,
      "outputs": [
        {
          "output_type": "execute_result",
          "data": {
            "text/plain": [
              "array([0.77045455, 0.81818182, 0.79090909, 0.80227273, 0.79090909])"
            ]
          },
          "metadata": {},
          "execution_count": 28
        }
      ]
    },
    {
      "cell_type": "markdown",
      "source": [
        "**Saving trained Random Forest model**"
      ],
      "metadata": {
        "id": "ypxq_ECU00jv"
      }
    },
    {
      "cell_type": "code",
      "source": [
        "import pickle\n",
        "# Dump the trained Naive Bayes classifier with Pickle\n",
        "RF_pkl_filename = 'RandomForest.pkl'\n",
        "# Open the file to save as pkl file\n",
        "RF_Model_pkl = open(RF_pkl_filename, 'wb')\n",
        "pickle.dump(RF, RF_Model_pkl)\n",
        "# Close the pickle instances\n",
        "RF_Model_pkl.close()"
      ],
      "metadata": {
        "id": "Ii5yMqyn01wy"
      },
      "execution_count": 29,
      "outputs": []
    },
    {
      "cell_type": "markdown",
      "source": [
        "**XGBoost**"
      ],
      "metadata": {
        "id": "OtWz0sFIFE9P"
      }
    },
    {
      "cell_type": "code",
      "source": [
        "import xgboost as xgb\n",
        "from sklearn import metrics\n",
        "from sklearn.metrics import classification_report\n",
        "from sklearn.metrics import accuracy_score # Import accuracy_score\n",
        "from sklearn.preprocessing import LabelEncoder # Import LabelEncoder\n",
        "\n",
        "# Encode the target variable y_train and y_test\n",
        "le = LabelEncoder()\n",
        "y_train_encoded = le.fit_transform(y_train)\n",
        "y_test_encoded = le.transform(y_test)\n",
        "\n",
        "\n",
        "XB = xgb.XGBClassifier()\n",
        "# Correct variable names to match the rest of the notebook\n",
        "# Fit the model with the encoded target variables\n",
        "XB.fit(X_train, y_train_encoded)\n",
        "\n",
        "# Correct variable name\n",
        "# Predict using the encoded test set\n",
        "predicted_values_encoded = XB.predict(X_test)\n",
        "\n",
        "# Decode the predicted values back to original labels for the classification report\n",
        "predicted_values = le.inverse_transform(predicted_values_encoded)\n",
        "\n",
        "\n",
        "# Correct variable name and use imported accuracy_score\n",
        "# Calculate accuracy using the encoded test set and predicted encoded values\n",
        "x = accuracy_score(y_test_encoded, predicted_values_encoded)\n",
        "\n",
        "# Assuming acc and model are intended to store results for comparison\n",
        "# These append calls were likely intended to be uncommented based on the plotting block\n",
        "acc.append(x)\n",
        "model.append('XGBoost')\n",
        "\n",
        "print(\"XGBoost's Accuracy is: \", x)\n",
        "\n",
        "# Correct variable name\n",
        "# Use the original y_test and the decoded predicted_values for the classification report\n",
        "print(classification_report(y_test,predicted_values))"
      ],
      "metadata": {
        "colab": {
          "base_uri": "https://localhost:8080/"
        },
        "id": "incOavYOFH-s",
        "outputId": "0b587ff3-9f65-427d-caed-c131403c0a59"
      },
      "execution_count": 36,
      "outputs": [
        {
          "output_type": "stream",
          "name": "stdout",
          "text": [
            "XGBoost's Accuracy is:  0.6704545454545454\n",
            "              precision    recall  f1-score   support\n",
            "\n",
            "       apple       0.62      0.43      0.51        23\n",
            "      banana       0.56      0.48      0.51        21\n",
            "   blackgram       0.82      0.70      0.76        20\n",
            "    chickpea       1.00      1.00      1.00        26\n",
            "     coconut       0.67      0.59      0.63        27\n",
            "      coffee       0.84      0.94      0.89        17\n",
            "      cotton       0.89      1.00      0.94        17\n",
            "      grapes       0.38      0.57      0.46        14\n",
            "        jute       0.52      0.52      0.52        23\n",
            " kidneybeans       0.70      0.80      0.74        20\n",
            "      lentil       0.11      0.18      0.14        11\n",
            "       maize       1.00      0.95      0.98        21\n",
            "       mango       0.48      0.53      0.50        19\n",
            "   mothbeans       0.76      0.54      0.63        24\n",
            "    mungbean       0.52      0.58      0.55        19\n",
            "   muskmelon       0.42      0.47      0.44        17\n",
            "      orange       0.93      1.00      0.97        14\n",
            "      papaya       0.92      1.00      0.96        23\n",
            "  pigeonpeas       0.52      0.48      0.50        23\n",
            " pomegranate       0.91      0.87      0.89        23\n",
            "        rice       0.44      0.37      0.40        19\n",
            "  watermelon       0.58      0.58      0.58        19\n",
            "\n",
            "    accuracy                           0.67       440\n",
            "   macro avg       0.66      0.66      0.66       440\n",
            "weighted avg       0.68      0.67      0.67       440\n",
            "\n"
          ]
        }
      ]
    },
    {
      "cell_type": "code",
      "source": [
        "# Cross validation score (XGBoost)\n",
        "from sklearn.model_selection import cross_val_score\n",
        "from sklearn.preprocessing import LabelEncoder\n",
        "\n",
        "# Encode the target variable for cross-validation\n",
        "le = LabelEncoder()\n",
        "target_encoded = le.fit_transform(target)\n",
        "\n",
        "# Pass the DataFrame with selected feature columns and the encoded target variable to cross_val_score\n",
        "score = cross_val_score(XB, crops[features], target_encoded, cv=5)\n",
        "score"
      ],
      "metadata": {
        "colab": {
          "base_uri": "https://localhost:8080/"
        },
        "id": "Faldi92VFkPi",
        "outputId": "f852bc84-7825-43ba-8b46-eccb6f2a4346"
      },
      "execution_count": 39,
      "outputs": [
        {
          "output_type": "execute_result",
          "data": {
            "text/plain": [
              "array([0.76363636, 0.82272727, 0.80681818, 0.78863636, 0.78636364])"
            ]
          },
          "metadata": {},
          "execution_count": 39
        }
      ]
    },
    {
      "cell_type": "markdown",
      "source": [
        "**Saving trained XGBoost model**"
      ],
      "metadata": {
        "id": "Re1vOPPMF_n5"
      }
    },
    {
      "cell_type": "code",
      "source": [
        "import pickle\n",
        "# Dump the trained Naive Bayes classifier with Pickle\n",
        "XB_pkl_filename = 'XGBoost.pkl'\n",
        "# Open the file to save as pkl file\n",
        "XB_Model_pkl = open(XB_pkl_filename, 'wb')\n",
        "pickle.dump(XB, XB_Model_pkl)\n",
        "# Close the pickle instances\n",
        "XB_Model_pkl.close()"
      ],
      "metadata": {
        "id": "1hJ7EtZTF7mU"
      },
      "execution_count": 40,
      "outputs": []
    },
    {
      "cell_type": "markdown",
      "source": [
        "**Accuracy Comparison**"
      ],
      "metadata": {
        "id": "7trOZArl0_Tv"
      }
    },
    {
      "cell_type": "code",
      "source": [
        "plt.figure(figsize=[10,5],dpi = 100)\n",
        "plt.title('Accuracy Comparison')\n",
        "plt.xlabel('Accuracy')\n",
        "plt.ylabel('Algorithm')\n",
        "sns.barplot(x = acc,y = model,palette='dark')"
      ],
      "metadata": {
        "colab": {
          "base_uri": "https://localhost:8080/",
          "height": 384
        },
        "id": "nIKxGult067y",
        "outputId": "f4955c21-5469-4cd6-8818-ba911f5c49f8"
      },
      "execution_count": 42,
      "outputs": [
        {
          "output_type": "execute_result",
          "data": {
            "text/plain": [
              "<Axes: title={'center': 'Accuracy Comparison'}, xlabel='Accuracy', ylabel='Algorithm'>"
            ]
          },
          "metadata": {},
          "execution_count": 42
        },
        {
          "output_type": "display_data",
          "data": {
            "text/plain": [
              "<Figure size 1000x500 with 1 Axes>"
            ],
            "image/png": "[encoded data removed]"
          },
          "metadata": {}
        }
      ]
    },
    {
      "cell_type": "code",
      "source": [
        "accuracy_models = dict(zip(model, acc))\n",
        "for k, v in accuracy_models.items():\n",
        "    print (k, '-->', v)"
      ],
      "metadata": {
        "colab": {
          "base_uri": "https://localhost:8080/"
        },
        "id": "PmyLMroO1_P3",
        "outputId": "4c43f8af-0ffe-4bf5-d309-c34d2e470f28"
      },
      "execution_count": 43,
      "outputs": [
        {
          "output_type": "stream",
          "name": "stdout",
          "text": [
            "XGBoost --> 0.6704545454545454\n"
          ]
        }
      ]
    },
    {
      "cell_type": "markdown",
      "source": [
        "**Making a prediction**"
      ],
      "metadata": {
        "id": "qCOUVvA02Emo"
      }
    },
    {
      "cell_type": "code",
      "source": [
        "import numpy as np\n",
        "from sklearn.ensemble import RandomForestClassifier\n",
        "from sklearn import metrics\n",
        "from sklearn.metrics import classification_report\n",
        "\n",
        "# Making a prediction\n",
        "# The trained RF model expects 3 features: K, N, ph in that order.\n",
        "# Update the data array to match this.\n",
        "# Assuming the input values 104, 18, 30 correspond to K, N, ph respectively\n",
        "data = np.array([[30,104,6.7]]) # Using K=30, N=104, ph=6.7 based on the original data values\n",
        "prediction = RF.predict(data)\n",
        "print(prediction)"
      ],
      "metadata": {
        "colab": {
          "base_uri": "https://localhost:8080/"
        },
        "id": "twfvXbYu2AWR",
        "outputId": "5a6c00c2-6bfc-4b26-cc31-1e02c4f47476"
      },
      "execution_count": 44,
      "outputs": [
        {
          "output_type": "stream",
          "name": "stdout",
          "text": [
            "['coffee']\n"
          ]
        }
      ]
    },
    {
      "cell_type": "code",
      "source": [
        "data = np.array([[83, 45, 7.0]]) # Example data with 3 features (K, N, ph)\n",
        "\n",
        "prediction = RF.predict(data)\n",
        "print(prediction)"
      ],
      "metadata": {
        "colab": {
          "base_uri": "https://localhost:8080/"
        },
        "id": "rtNFztNylrJ-",
        "outputId": "cfdb4cb2-bf42-4e33-dcdd-2ebd79aeb964"
      },
      "execution_count": 46,
      "outputs": [
        {
          "output_type": "stream",
          "name": "stdout",
          "text": [
            "['chickpea']\n"
          ]
        }
      ]
    }
  ]
}